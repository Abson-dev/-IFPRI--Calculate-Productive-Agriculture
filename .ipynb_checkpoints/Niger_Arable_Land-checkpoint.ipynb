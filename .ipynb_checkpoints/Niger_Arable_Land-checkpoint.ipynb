{
 "cells": [
  {
   "cell_type": "markdown",
   "id": "095037bd",
   "metadata": {},
   "source": [
    "# **Spatial typology to identify food and nutrition security bottlenecks in Niger**\n",
    "\n",
    "**Arable land computation**\n",
    "\n",
    "\n",
    "```bash\n",
    "Author : Aboubacar HEMA\n",
    "Supervision : Wim MARIVOET\n",
    "Contact : a.hema@cgiar.org / w.marivoet@cgiar.org\n",
    "Role : Research Analyst at IFPRI\n",
    "Year : 2022\n",
    "```"
   ]
  },
  {
   "cell_type": "code",
   "execution_count": null,
   "id": "bc8a84c2",
   "metadata": {},
   "outputs": [],
   "source": []
  }
 ],
 "metadata": {
  "kernelspec": {
   "display_name": "Python 3 (ipykernel)",
   "language": "python",
   "name": "python3"
  },
  "language_info": {
   "codemirror_mode": {
    "name": "ipython",
    "version": 3
   },
   "file_extension": ".py",
   "mimetype": "text/x-python",
   "name": "python",
   "nbconvert_exporter": "python",
   "pygments_lexer": "ipython3",
   "version": "3.11.5"
  }
 },
 "nbformat": 4,
 "nbformat_minor": 5
}
