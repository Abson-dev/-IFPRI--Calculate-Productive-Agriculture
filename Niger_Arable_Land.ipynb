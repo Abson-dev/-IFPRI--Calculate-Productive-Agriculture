{
 "cells": [
  {
   "cell_type": "markdown",
   "id": "625a97df",
   "metadata": {},
   "source": [
    "# **Spatial typology to identify food and nutrition security bottlenecks in Niger**\n",
    "\n",
    "**IFPRI- Calculate Productive Agriculture :Arable land computation**\n",
    "\n",
    "\n",
    "```bash\n",
    "Author : Aboubacar HEMA\n",
    "Supervision : Wim MARIVOET\n",
    "Contact : a.hema@cgiar.org / w.marivoet@cgiar.org\n",
    "Role : Research Analyst at IFPRI\n",
    "Year : December 2022\n",
    "```"
   ]
  },
  {
   "cell_type": "markdown",
   "id": "6f119eef",
   "metadata": {},
   "source": [
    "-----------------\n",
    "## **Objective**\n",
    "-----------------\n",
    "\n",
    "- To identify arable land in country of interest at 30m resolution, comprising the following steps: \n",
    "1. Aggregate Cleared Forest and Cropland datasets \n",
    "2. Masking slope > 15%\n",
    "3. permanent water\n",
    "4. imprevious surfaces \n"
   ]
  },
  {
   "cell_type": "markdown",
   "id": "b253f50d",
   "metadata": {},
   "source": [
    "-----------------\n",
    "## **Output**\n",
    "-----------------\n",
    "\n",
    "\n",
    "\n",
    "-----------------\n",
    "## **Dataset**\n",
    "-----------------\n",
    "\n",
    "\n",
    " Directions for Downloading GFSAD Data:\n",
    "1. Go to https://search.earthdata.nasa.gov/search. If you're a new user, create a login using contact information.\n",
    "2. Search \"GFSAD\" in the top left search bar \"Search for collections and topics\"\n",
    "3. Select \"Global Food Security-support Analysis Data (GFSAD) Cropland Extent 2015 Africa 30 m V001\"\n",
    "4. In the map area to the right, image footprints will appear as on overlay over Africa. Navigate to country of interest, select image footprint that you would like to download. In the left side table showing search results, the image you have selected will be outlined in green (NOTE: This may require scrolling through the image list).\n",
    "5. In the green outlined box, click \"Download Granule\" to download the scene to the desired output location on your computer.\n",
    "6. Repeat these steps until you have downloaded all images required to cover your entire area of interest.\n",
    "7. Upload download GFSAD geoTIFFs to GEE from Assets and import them into calcArableLand script.![image](https://userimages.githubusercontent.com/54441886/206823358-5993aad6-ae09-40d6-a33f-b14dd4f04bc7.png)"
   ]
  },
  {
   "cell_type": "markdown",
   "id": "58337cb0",
   "metadata": {},
   "source": [
    "-----------------\n",
    "## **Technical requirements**\n",
    "-----------------\n",
    "\n",
    "\n",
    "```bash\n",
    "conda create -n gee python\n",
    "conda activate gee\n",
    "conda install -c conda-forge mamba\n",
    "mamba install -c conda-forge pygis\n",
    "pip install geemap\n",
    "pip install ee\n",
    "```\n",
    "\n",
    "\n",
    "-----------------\n",
    "## **Import the necessary libraries**\n",
    "-----------------\n"
   ]
  },
  {
   "cell_type": "code",
   "execution_count": 1,
   "id": "3d46a784",
   "metadata": {},
   "outputs": [],
   "source": [
    "import ee\n",
    "import geemap\n",
    "\n",
    "# Basic libraries of python for numeric and dataframe computations\n",
    "import numpy as np                              \n",
    "import pandas as pd\n",
    "\n",
    "# Basic library for data visualization\n",
    "import matplotlib.pyplot as plt \n",
    "\n",
    "# Slightly advanced library for data visualization            \n",
    "import seaborn as sns "
   ]
  },
  {
   "cell_type": "code",
   "execution_count": 2,
   "id": "225df7ad",
   "metadata": {},
   "outputs": [
    {
     "data": {
      "text/html": [
       "\n",
       "            <style>\n",
       "                .geemap-dark {\n",
       "                    --jp-widgets-color: white;\n",
       "                    --jp-widgets-label-color: white;\n",
       "                    --jp-ui-font-color1: white;\n",
       "                    --jp-layout-color2: #454545;\n",
       "                    background-color: #383838;\n",
       "                }\n",
       "\n",
       "                .geemap-dark .jupyter-button {\n",
       "                    --jp-layout-color3: #383838;\n",
       "                }\n",
       "\n",
       "                .geemap-colab {\n",
       "                    background-color: var(--colab-primary-surface-color, white);\n",
       "                }\n",
       "\n",
       "                .geemap-colab .jupyter-button {\n",
       "                    --jp-layout-color3: var(--colab-primary-surface-color, white);\n",
       "                }\n",
       "            </style>\n",
       "            "
      ],
      "text/plain": [
       "<IPython.core.display.HTML object>"
      ]
     },
     "metadata": {},
     "output_type": "display_data"
    }
   ],
   "source": [
    "# Authenticate and Initialize Earth Engine\n",
    "geemap.ee_initialize()"
   ]
  },
  {
   "cell_type": "markdown",
   "id": "f8691484",
   "metadata": {},
   "source": [
    "-----------------\n",
    "## **Load data**\n",
    "-----------------"
   ]
  },
  {
   "cell_type": "code",
   "execution_count": 85,
   "id": "a3167573",
   "metadata": {},
   "outputs": [
    {
     "data": {
      "text/html": [
       "\n",
       "            <style>\n",
       "                .geemap-dark {\n",
       "                    --jp-widgets-color: white;\n",
       "                    --jp-widgets-label-color: white;\n",
       "                    --jp-ui-font-color1: white;\n",
       "                    --jp-layout-color2: #454545;\n",
       "                    background-color: #383838;\n",
       "                }\n",
       "\n",
       "                .geemap-dark .jupyter-button {\n",
       "                    --jp-layout-color3: #383838;\n",
       "                }\n",
       "\n",
       "                .geemap-colab {\n",
       "                    background-color: var(--colab-primary-surface-color, white);\n",
       "                }\n",
       "\n",
       "                .geemap-colab .jupyter-button {\n",
       "                    --jp-layout-color3: var(--colab-primary-surface-color, white);\n",
       "                }\n",
       "            </style>\n",
       "            "
      ],
      "text/plain": [
       "<IPython.core.display.HTML object>"
      ]
     },
     "metadata": {},
     "output_type": "display_data"
    }
   ],
   "source": [
    "Hansen_GFC = ee.Image(\"UMD/hansen/global_forest_change_2020_v1_8\")\n",
    "SRTM = ee.Image(\"USGS/SRTMGL1_003\")\n",
    "surfaceWater = ee.Image(\"JRC/GSW1_4/GlobalSurfaceWater\")\n",
    "imperviousSurface = ee.Image(\"Tsinghua/FROM-GLC/GAIA/v10\")\n",
    "GFSAD30AFCE_2015_N_1 = ee.Image(\"projects/ee-aboubacarhema94/assets/Niger/GFSAD30AFCE_2015_N_1\")\n",
    "GFSAD30AFCE_2015_N_2 = ee.Image(\"projects/ee-aboubacarhema94/assets/Niger/GFSAD30AFCE_2015_N_2\")\n",
    "GFSAD30AFCE_2015_N_3 = ee.Image(\"projects/ee-aboubacarhema94/assets/Niger/GFSAD30AFCE_2015_N_3\")\n",
    "GFSAD30AFCE_2015_N_4 = ee.Image(\"projects/ee-aboubacarhema94/assets/Niger/GFSAD30AFCE_2015_N_4\")\n",
    "ImperviousSurfaceGMIS = ee.Image(\"projects/ee-aboubacarhema94/assets/Niger/NER_gmis_impervious_surface_percentage_geographic_30m\")\n",
    "ProtectedAreaPoints = ee.FeatureCollection(\"projects/ee-aboubacarhema94/assets/Niger/ProtectedAreaPoints\")\n",
    "ProtectedAreaPolygons = ee.FeatureCollection(\"projects/ee-aboubacarhema94/assets/Niger/ProtectedAreaPolygons\")\n",
    "GAUL_adm0 = ee.FeatureCollection(\"projects/ee-aboubacarhema94/assets/Niger/gadm41_NER_0\")\n",
    "GAUL_adm1 = ee.FeatureCollection(\"projects/ee-aboubacarhema94/assets/Niger/gadm41_NER_1\")\n",
    "GAUL_adm2 = ee.FeatureCollection(\"projects/ee-aboubacarhema94/assets/Niger/gadm41_NER_2\")\n",
    "GAUL_adm0F = ee.FeatureCollection(\"FAO/GAUL/2015/level0\")\n",
    "GAUL_adm2F = ee.FeatureCollection(\"FAO/GAUL/2015/level2\")\n",
    "GAUL_adm3 = ee.FeatureCollection(\"projects/ee-aboubacarhema94/assets/Niger/gadm41_NER_3\")\n",
    "NER_adm2 = ee.FeatureCollection(\"projects/ee-aboubacarhema94/assets/Niger/NER_64\")"
   ]
  },
  {
   "cell_type": "code",
   "execution_count": 26,
   "id": "c94d8a3d",
   "metadata": {},
   "outputs": [
    {
     "data": {
      "text/html": [
       "\n",
       "            <style>\n",
       "                .geemap-dark {\n",
       "                    --jp-widgets-color: white;\n",
       "                    --jp-widgets-label-color: white;\n",
       "                    --jp-ui-font-color1: white;\n",
       "                    --jp-layout-color2: #454545;\n",
       "                    background-color: #383838;\n",
       "                }\n",
       "\n",
       "                .geemap-dark .jupyter-button {\n",
       "                    --jp-layout-color3: #383838;\n",
       "                }\n",
       "\n",
       "                .geemap-colab {\n",
       "                    background-color: var(--colab-primary-surface-color, white);\n",
       "                }\n",
       "\n",
       "                .geemap-colab .jupyter-button {\n",
       "                    --jp-layout-color3: var(--colab-primary-surface-color, white);\n",
       "                }\n",
       "            </style>\n",
       "            "
      ],
      "text/plain": [
       "<IPython.core.display.HTML object>"
      ]
     },
     "metadata": {},
     "output_type": "display_data"
    }
   ],
   "source": [
    "deforestCompYear = 14 #Last two digits of year only\n",
    "occurrence_threshold = 10 #Set water occuring less than this value (in %) of the time, it is the frequency with which water was present.\n"
   ]
  },
  {
   "cell_type": "code",
   "execution_count": 8,
   "id": "0ed0d523",
   "metadata": {},
   "outputs": [
    {
     "data": {
      "text/html": [
       "\n",
       "            <style>\n",
       "                .geemap-dark {\n",
       "                    --jp-widgets-color: white;\n",
       "                    --jp-widgets-label-color: white;\n",
       "                    --jp-ui-font-color1: white;\n",
       "                    --jp-layout-color2: #454545;\n",
       "                    background-color: #383838;\n",
       "                }\n",
       "\n",
       "                .geemap-dark .jupyter-button {\n",
       "                    --jp-layout-color3: #383838;\n",
       "                }\n",
       "\n",
       "                .geemap-colab {\n",
       "                    background-color: var(--colab-primary-surface-color, white);\n",
       "                }\n",
       "\n",
       "                .geemap-colab .jupyter-button {\n",
       "                    --jp-layout-color3: var(--colab-primary-surface-color, white);\n",
       "                }\n",
       "            </style>\n",
       "            "
      ],
      "text/plain": [
       "<IPython.core.display.HTML object>"
      ]
     },
     "metadata": {},
     "output_type": "display_data"
    },
    {
     "data": {
      "application/vnd.jupyter.widget-view+json": {
       "model_id": "78ae8de702864474a275ad5d7003ec50",
       "version_major": 2,
       "version_minor": 0
      },
      "text/plain": [
       "Map(center=[0, 0], controls=(WidgetControl(options=['position', 'transparent_bg'], widget=SearchDataGUI(childr…"
      ]
     },
     "execution_count": 8,
     "metadata": {},
     "output_type": "execute_result"
    }
   ],
   "source": [
    "adm0_AOI = GAUL_adm0\n",
    "#Initialize a Map\n",
    "Map = geemap.Map()\n",
    "Map.centerObject(adm0_AOI)\n",
    "Map"
   ]
  },
  {
   "cell_type": "code",
   "execution_count": 100,
   "id": "b11df707",
   "metadata": {},
   "outputs": [
    {
     "data": {
      "text/html": [
       "\n",
       "            <style>\n",
       "                .geemap-dark {\n",
       "                    --jp-widgets-color: white;\n",
       "                    --jp-widgets-label-color: white;\n",
       "                    --jp-ui-font-color1: white;\n",
       "                    --jp-layout-color2: #454545;\n",
       "                    background-color: #383838;\n",
       "                }\n",
       "\n",
       "                .geemap-dark .jupyter-button {\n",
       "                    --jp-layout-color3: #383838;\n",
       "                }\n",
       "\n",
       "                .geemap-colab {\n",
       "                    background-color: var(--colab-primary-surface-color, white);\n",
       "                }\n",
       "\n",
       "                .geemap-colab .jupyter-button {\n",
       "                    --jp-layout-color3: var(--colab-primary-surface-color, white);\n",
       "                }\n",
       "            </style>\n",
       "            "
      ],
      "text/plain": [
       "<IPython.core.display.HTML object>"
      ]
     },
     "metadata": {},
     "output_type": "display_data"
    },
    {
     "data": {
      "application/vnd.jupyter.widget-view+json": {
       "model_id": "eac4c035d5574bbda6a5cad4e7c78ff4",
       "version_major": 2,
       "version_minor": 0
      },
      "text/plain": [
       "Map(bottom=3898.0, center=[21.37124437061832, 6.789550781250001], controls=(WidgetControl(options=['position',…"
      ]
     },
     "execution_count": 100,
     "metadata": {},
     "output_type": "execute_result"
    },
    {
     "name": "stderr",
     "output_type": "stream",
     "text": [
      "No such comm: fe06a4a336f747dca86c4437416c528b\n",
      "No such comm: 0f4adb9337504a3abf0e2bbf55506061\n",
      "No such comm: 8587a8992c9a47e2bc1649178b8308db\n",
      "No such comm: 0f4adb9337504a3abf0e2bbf55506061\n",
      "No such comm: 8587a8992c9a47e2bc1649178b8308db\n",
      "No such comm: 8587a8992c9a47e2bc1649178b8308db\n"
     ]
    }
   ],
   "source": [
    "# Set visualization/style parameters\n",
    "adm2_style = {\n",
    "    \"fillColor\": \"00000000\", # transparent color code\n",
    "    \"color\": \"black\", # color of the stroke\n",
    "    \"width\": 0.5 # stroke width\n",
    "}\n",
    "\n",
    "# Display the layer\n",
    "Map.addLayer(NER_adm2.style(**adm2_style), {}, \" Niger Administrative two Boundaries\")\n",
    "Map"
   ]
  },
  {
   "cell_type": "markdown",
   "id": "91007ee0",
   "metadata": {},
   "source": [
    "\n",
    "-----------------\n",
    "## **Global Food Security-support Analysis Data (GFSAD) Cropland Extent 2015 Africa 30 m V001**\n",
    "-----------------"
   ]
  },
  {
   "cell_type": "code",
   "execution_count": 90,
   "id": "bd4b1ca5",
   "metadata": {},
   "outputs": [
    {
     "data": {
      "text/html": [
       "\n",
       "            <style>\n",
       "                .geemap-dark {\n",
       "                    --jp-widgets-color: white;\n",
       "                    --jp-widgets-label-color: white;\n",
       "                    --jp-ui-font-color1: white;\n",
       "                    --jp-layout-color2: #454545;\n",
       "                    background-color: #383838;\n",
       "                }\n",
       "\n",
       "                .geemap-dark .jupyter-button {\n",
       "                    --jp-layout-color3: #383838;\n",
       "                }\n",
       "\n",
       "                .geemap-colab {\n",
       "                    background-color: var(--colab-primary-surface-color, white);\n",
       "                }\n",
       "\n",
       "                .geemap-colab .jupyter-button {\n",
       "                    --jp-layout-color3: var(--colab-primary-surface-color, white);\n",
       "                }\n",
       "            </style>\n",
       "            "
      ],
      "text/plain": [
       "<IPython.core.display.HTML object>"
      ]
     },
     "metadata": {},
     "output_type": "display_data"
    }
   ],
   "source": [
    "GFSAD_1 = GFSAD30AFCE_2015_N_1\n",
    "GFSAD_2 = GFSAD30AFCE_2015_N_2\n",
    "GFSAD_3 = GFSAD30AFCE_2015_N_3\n",
    "GFSAD_4 = GFSAD30AFCE_2015_N_4"
   ]
  },
  {
   "cell_type": "code",
   "execution_count": 91,
   "id": "286f2871",
   "metadata": {},
   "outputs": [
    {
     "data": {
      "text/html": [
       "\n",
       "            <style>\n",
       "                .geemap-dark {\n",
       "                    --jp-widgets-color: white;\n",
       "                    --jp-widgets-label-color: white;\n",
       "                    --jp-ui-font-color1: white;\n",
       "                    --jp-layout-color2: #454545;\n",
       "                    background-color: #383838;\n",
       "                }\n",
       "\n",
       "                .geemap-dark .jupyter-button {\n",
       "                    --jp-layout-color3: #383838;\n",
       "                }\n",
       "\n",
       "                .geemap-colab {\n",
       "                    background-color: var(--colab-primary-surface-color, white);\n",
       "                }\n",
       "\n",
       "                .geemap-colab .jupyter-button {\n",
       "                    --jp-layout-color3: var(--colab-primary-surface-color, white);\n",
       "                }\n",
       "            </style>\n",
       "            "
      ],
      "text/plain": [
       "<IPython.core.display.HTML object>"
      ]
     },
     "metadata": {},
     "output_type": "display_data"
    },
    {
     "data": {
      "text/plain": [
       "{'max': {'b1': 2},\n",
       " 'mean': {'b1': 1.187640515310589},\n",
       " 'min': {'b1': 0},\n",
       " 'std': {'b1': 0.39555668270727906},\n",
       " 'sum': {'b1': 1647463005}}"
      ]
     },
     "execution_count": 91,
     "metadata": {},
     "output_type": "execute_result"
    }
   ],
   "source": [
    "Img_stats = geemap.image_stats(GFSAD_1, scale=30)\n",
    "Img_stats.getInfo()"
   ]
  },
  {
   "cell_type": "code",
   "execution_count": 92,
   "id": "22ad17ac",
   "metadata": {},
   "outputs": [
    {
     "data": {
      "text/html": [
       "\n",
       "            <style>\n",
       "                .geemap-dark {\n",
       "                    --jp-widgets-color: white;\n",
       "                    --jp-widgets-label-color: white;\n",
       "                    --jp-ui-font-color1: white;\n",
       "                    --jp-layout-color2: #454545;\n",
       "                    background-color: #383838;\n",
       "                }\n",
       "\n",
       "                .geemap-dark .jupyter-button {\n",
       "                    --jp-layout-color3: #383838;\n",
       "                }\n",
       "\n",
       "                .geemap-colab {\n",
       "                    background-color: var(--colab-primary-surface-color, white);\n",
       "                }\n",
       "\n",
       "                .geemap-colab .jupyter-button {\n",
       "                    --jp-layout-color3: var(--colab-primary-surface-color, white);\n",
       "                }\n",
       "            </style>\n",
       "            "
      ],
      "text/plain": [
       "<IPython.core.display.HTML object>"
      ]
     },
     "metadata": {},
     "output_type": "display_data"
    },
    {
     "data": {
      "text/plain": [
       "{'max': {'b1': 2},\n",
       " 'mean': {'b1': 1.0820026743237259},\n",
       " 'min': {'b1': 0},\n",
       " 'std': {'b1': 0.28518047461927776},\n",
       " 'sum': {'b1': 1500925031}}"
      ]
     },
     "execution_count": 92,
     "metadata": {},
     "output_type": "execute_result"
    }
   ],
   "source": [
    "Img_stats = geemap.image_stats(GFSAD_2, scale=30)\n",
    "Img_stats.getInfo()"
   ]
  },
  {
   "cell_type": "code",
   "execution_count": null,
   "id": "429c7cf7",
   "metadata": {},
   "outputs": [],
   "source": [
    "Img_stats = geemap.image_stats(GFSAD_3, scale=30)\n",
    "Img_stats.getInfo()"
   ]
  },
  {
   "cell_type": "code",
   "execution_count": null,
   "id": "445847e2",
   "metadata": {},
   "outputs": [],
   "source": [
    "Img_stats = geemap.image_stats(GFSAD_4, scale=30)\n",
    "Img_stats.getInfo()"
   ]
  },
  {
   "cell_type": "code",
   "execution_count": 99,
   "id": "4c90d84d",
   "metadata": {},
   "outputs": [
    {
     "data": {
      "text/html": [
       "\n",
       "            <style>\n",
       "                .geemap-dark {\n",
       "                    --jp-widgets-color: white;\n",
       "                    --jp-widgets-label-color: white;\n",
       "                    --jp-ui-font-color1: white;\n",
       "                    --jp-layout-color2: #454545;\n",
       "                    background-color: #383838;\n",
       "                }\n",
       "\n",
       "                .geemap-dark .jupyter-button {\n",
       "                    --jp-layout-color3: #383838;\n",
       "                }\n",
       "\n",
       "                .geemap-colab {\n",
       "                    background-color: var(--colab-primary-surface-color, white);\n",
       "                }\n",
       "\n",
       "                .geemap-colab .jupyter-button {\n",
       "                    --jp-layout-color3: var(--colab-primary-surface-color, white);\n",
       "                }\n",
       "            </style>\n",
       "            "
      ],
      "text/plain": [
       "<IPython.core.display.HTML object>"
      ]
     },
     "metadata": {},
     "output_type": "display_data"
    },
    {
     "data": {
      "application/vnd.jupyter.widget-view+json": {
       "model_id": "eac4c035d5574bbda6a5cad4e7c78ff4",
       "version_major": 2,
       "version_minor": 0
      },
      "text/plain": [
       "Map(bottom=3930.0, center=[20.05593126519445, 11.008300781250002], controls=(WidgetControl(options=['position'…"
      ]
     },
     "execution_count": 99,
     "metadata": {},
     "output_type": "execute_result"
    },
    {
     "name": "stderr",
     "output_type": "stream",
     "text": [
      "No such comm: fe06a4a336f747dca86c4437416c528b\n",
      "No such comm: 0f4adb9337504a3abf0e2bbf55506061\n",
      "No such comm: 8587a8992c9a47e2bc1649178b8308db\n",
      "No such comm: 0f4adb9337504a3abf0e2bbf55506061\n",
      "No such comm: 8587a8992c9a47e2bc1649178b8308db\n",
      "No such comm: 8587a8992c9a47e2bc1649178b8308db\n"
     ]
    }
   ],
   "source": [
    "viz = {\n",
    "  'min': 0,\n",
    "  'max': 2,\n",
    "  'palette': [\n",
    "    '014352', '1a492c', '071ec4',\n",
    "  ]\n",
    "}\n",
    "Map.addLayer(GFSAD_1, viz, 'GFSAD 1', 1)\n",
    "Map.addLayer(GFSAD_2, viz, 'GFSAD 2', 1)\n",
    "Map.addLayer(GFSAD_3, viz, 'GFSAD 3', 1)\n",
    "Map.addLayer(GFSAD_4, viz, 'GFSAD 4', 1)\n",
    "Map"
   ]
  },
  {
   "cell_type": "code",
   "execution_count": 98,
   "id": "d23cf523",
   "metadata": {},
   "outputs": [
    {
     "data": {
      "text/html": [
       "\n",
       "            <style>\n",
       "                .geemap-dark {\n",
       "                    --jp-widgets-color: white;\n",
       "                    --jp-widgets-label-color: white;\n",
       "                    --jp-ui-font-color1: white;\n",
       "                    --jp-layout-color2: #454545;\n",
       "                    background-color: #383838;\n",
       "                }\n",
       "\n",
       "                .geemap-dark .jupyter-button {\n",
       "                    --jp-layout-color3: #383838;\n",
       "                }\n",
       "\n",
       "                .geemap-colab {\n",
       "                    background-color: var(--colab-primary-surface-color, white);\n",
       "                }\n",
       "\n",
       "                .geemap-colab .jupyter-button {\n",
       "                    --jp-layout-color3: var(--colab-primary-surface-color, white);\n",
       "                }\n",
       "            </style>\n",
       "            "
      ],
      "text/plain": [
       "<IPython.core.display.HTML object>"
      ]
     },
     "metadata": {},
     "output_type": "display_data"
    }
   ],
   "source": [
    "\n",
    "#CLip Images to Niger Extent --> Mask\n",
    "clipGFSAD_1 = GFSAD_1.clip(adm0_AOI)\n",
    "clipGFSAD_2 = GFSAD_2.clip(adm0_AOI)\n",
    "clipGFSAD_3 = GFSAD_3.clip(adm0_AOI)\n",
    "clipGFSAD_4 = GFSAD_4.clip(adm0_AOI)\n",
    "#Create Image Collection so it can be mosaiced together --> use quality mosaic to get highest\n",
    "GFSAD = ee.ImageCollection([clipGFSAD_1, clipGFSAD_2, clipGFSAD_3, clipGFSAD_4]).mosaic()\n"
   ]
  },
  {
   "cell_type": "code",
   "execution_count": 101,
   "id": "3a23e7c4",
   "metadata": {},
   "outputs": [
    {
     "data": {
      "text/html": [
       "\n",
       "            <style>\n",
       "                .geemap-dark {\n",
       "                    --jp-widgets-color: white;\n",
       "                    --jp-widgets-label-color: white;\n",
       "                    --jp-ui-font-color1: white;\n",
       "                    --jp-layout-color2: #454545;\n",
       "                    background-color: #383838;\n",
       "                }\n",
       "\n",
       "                .geemap-dark .jupyter-button {\n",
       "                    --jp-layout-color3: #383838;\n",
       "                }\n",
       "\n",
       "                .geemap-colab {\n",
       "                    background-color: var(--colab-primary-surface-color, white);\n",
       "                }\n",
       "\n",
       "                .geemap-colab .jupyter-button {\n",
       "                    --jp-layout-color3: var(--colab-primary-surface-color, white);\n",
       "                }\n",
       "            </style>\n",
       "            "
      ],
      "text/plain": [
       "<IPython.core.display.HTML object>"
      ]
     },
     "metadata": {},
     "output_type": "display_data"
    },
    {
     "data": {
      "application/vnd.jupyter.widget-view+json": {
       "model_id": "eac4c035d5574bbda6a5cad4e7c78ff4",
       "version_major": 2,
       "version_minor": 0
      },
      "text/plain": [
       "Map(bottom=3898.0, center=[21.37124437061832, 6.789550781250001], controls=(WidgetControl(options=['position',…"
      ]
     },
     "execution_count": 101,
     "metadata": {},
     "output_type": "execute_result"
    }
   ],
   "source": [
    "Map.addLayer(clipGFSAD_1, viz, 'GFSAD 1', 1)\n",
    "Map.addLayer(clipGFSAD_2, viz, 'GFSAD 2', 1)\n",
    "Map.addLayer(clipGFSAD_3, viz, 'GFSAD 3', 1)\n",
    "Map.addLayer(clipGFSAD_4, viz, 'GFSAD 4', 1)\n",
    "Map"
   ]
  },
  {
   "cell_type": "code",
   "execution_count": 102,
   "id": "e42a6384",
   "metadata": {},
   "outputs": [
    {
     "data": {
      "text/html": [
       "\n",
       "            <style>\n",
       "                .geemap-dark {\n",
       "                    --jp-widgets-color: white;\n",
       "                    --jp-widgets-label-color: white;\n",
       "                    --jp-ui-font-color1: white;\n",
       "                    --jp-layout-color2: #454545;\n",
       "                    background-color: #383838;\n",
       "                }\n",
       "\n",
       "                .geemap-dark .jupyter-button {\n",
       "                    --jp-layout-color3: #383838;\n",
       "                }\n",
       "\n",
       "                .geemap-colab {\n",
       "                    background-color: var(--colab-primary-surface-color, white);\n",
       "                }\n",
       "\n",
       "                .geemap-colab .jupyter-button {\n",
       "                    --jp-layout-color3: var(--colab-primary-surface-color, white);\n",
       "                }\n",
       "            </style>\n",
       "            "
      ],
      "text/plain": [
       "<IPython.core.display.HTML object>"
      ]
     },
     "metadata": {},
     "output_type": "display_data"
    }
   ],
   "source": [
    "#Mask to select Cropland (band b1 = 2)\n",
    "aoiCropland = GFSAD.eq(2).selfMask().rename(\"Cropland\")"
   ]
  },
  {
   "cell_type": "code",
   "execution_count": 103,
   "id": "8badfc8e",
   "metadata": {},
   "outputs": [
    {
     "data": {
      "text/html": [
       "\n",
       "            <style>\n",
       "                .geemap-dark {\n",
       "                    --jp-widgets-color: white;\n",
       "                    --jp-widgets-label-color: white;\n",
       "                    --jp-ui-font-color1: white;\n",
       "                    --jp-layout-color2: #454545;\n",
       "                    background-color: #383838;\n",
       "                }\n",
       "\n",
       "                .geemap-dark .jupyter-button {\n",
       "                    --jp-layout-color3: #383838;\n",
       "                }\n",
       "\n",
       "                .geemap-colab {\n",
       "                    background-color: var(--colab-primary-surface-color, white);\n",
       "                }\n",
       "\n",
       "                .geemap-colab .jupyter-button {\n",
       "                    --jp-layout-color3: var(--colab-primary-surface-color, white);\n",
       "                }\n",
       "            </style>\n",
       "            "
      ],
      "text/plain": [
       "<IPython.core.display.HTML object>"
      ]
     },
     "metadata": {},
     "output_type": "display_data"
    }
   ],
   "source": [
    "bin_viz = {\n",
    "  'min': 0,\n",
    "  'max': 1,\n",
    "  'palette': ['red', 'green']\n",
    "}"
   ]
  },
  {
   "cell_type": "code",
   "execution_count": 105,
   "id": "9ae0a8f3",
   "metadata": {},
   "outputs": [
    {
     "data": {
      "text/html": [
       "\n",
       "            <style>\n",
       "                .geemap-dark {\n",
       "                    --jp-widgets-color: white;\n",
       "                    --jp-widgets-label-color: white;\n",
       "                    --jp-ui-font-color1: white;\n",
       "                    --jp-layout-color2: #454545;\n",
       "                    background-color: #383838;\n",
       "                }\n",
       "\n",
       "                .geemap-dark .jupyter-button {\n",
       "                    --jp-layout-color3: #383838;\n",
       "                }\n",
       "\n",
       "                .geemap-colab {\n",
       "                    background-color: var(--colab-primary-surface-color, white);\n",
       "                }\n",
       "\n",
       "                .geemap-colab .jupyter-button {\n",
       "                    --jp-layout-color3: var(--colab-primary-surface-color, white);\n",
       "                }\n",
       "            </style>\n",
       "            "
      ],
      "text/plain": [
       "<IPython.core.display.HTML object>"
      ]
     },
     "metadata": {},
     "output_type": "display_data"
    },
    {
     "data": {
      "application/vnd.jupyter.widget-view+json": {
       "model_id": "9e9365fa053b46918935093b652aa36d",
       "version_major": 2,
       "version_minor": 0
      },
      "text/plain": [
       "Map(center=[0, 0], controls=(WidgetControl(options=['position', 'transparent_bg'], widget=SearchDataGUI(childr…"
      ]
     },
     "execution_count": 105,
     "metadata": {},
     "output_type": "execute_result"
    }
   ],
   "source": [
    "#Initialize a Map\n",
    "Map = geemap.Map()\n",
    "Map.centerObject(adm0_AOI)\n",
    "Map.addLayer(aoiCropland, bin_viz, 'Cropland in GFSAD', 1)\n",
    "Map"
   ]
  },
  {
   "cell_type": "code",
   "execution_count": 17,
   "id": "590df7ec",
   "metadata": {},
   "outputs": [
    {
     "data": {
      "text/html": [
       "\n",
       "            <style>\n",
       "                .geemap-dark {\n",
       "                    --jp-widgets-color: white;\n",
       "                    --jp-widgets-label-color: white;\n",
       "                    --jp-ui-font-color1: white;\n",
       "                    --jp-layout-color2: #454545;\n",
       "                    background-color: #383838;\n",
       "                }\n",
       "\n",
       "                .geemap-dark .jupyter-button {\n",
       "                    --jp-layout-color3: #383838;\n",
       "                }\n",
       "\n",
       "                .geemap-colab {\n",
       "                    background-color: var(--colab-primary-surface-color, white);\n",
       "                }\n",
       "\n",
       "                .geemap-colab .jupyter-button {\n",
       "                    --jp-layout-color3: var(--colab-primary-surface-color, white);\n",
       "                }\n",
       "            </style>\n",
       "            "
      ],
      "text/plain": [
       "<IPython.core.display.HTML object>"
      ]
     },
     "metadata": {},
     "output_type": "display_data"
    }
   ],
   "source": [
    "arableFromCropland = aoiCropland.select('Cropland').unmask(0).clip(adm0_AOI)"
   ]
  },
  {
   "cell_type": "markdown",
   "id": "6071f0ee",
   "metadata": {},
   "source": [
    "\n",
    "-----------------\n",
    "## **Hansen Dataset for cleared forested between 2000 and 2015**\n",
    "-----------------"
   ]
  },
  {
   "cell_type": "code",
   "execution_count": 64,
   "id": "ecf3b277",
   "metadata": {},
   "outputs": [
    {
     "data": {
      "text/html": [
       "\n",
       "            <style>\n",
       "                .geemap-dark {\n",
       "                    --jp-widgets-color: white;\n",
       "                    --jp-widgets-label-color: white;\n",
       "                    --jp-ui-font-color1: white;\n",
       "                    --jp-layout-color2: #454545;\n",
       "                    background-color: #383838;\n",
       "                }\n",
       "\n",
       "                .geemap-dark .jupyter-button {\n",
       "                    --jp-layout-color3: #383838;\n",
       "                }\n",
       "\n",
       "                .geemap-colab {\n",
       "                    background-color: var(--colab-primary-surface-color, white);\n",
       "                }\n",
       "\n",
       "                .geemap-colab .jupyter-button {\n",
       "                    --jp-layout-color3: var(--colab-primary-surface-color, white);\n",
       "                }\n",
       "            </style>\n",
       "            "
      ],
      "text/plain": [
       "<IPython.core.display.HTML object>"
      ]
     },
     "metadata": {},
     "output_type": "display_data"
    }
   ],
   "source": [
    "#Initialize a Map\n",
    "Map = geemap.Map()\n",
    "Map.centerObject(adm0_AOI)"
   ]
  },
  {
   "cell_type": "code",
   "execution_count": 65,
   "id": "a63b1f60",
   "metadata": {},
   "outputs": [
    {
     "data": {
      "text/html": [
       "\n",
       "            <style>\n",
       "                .geemap-dark {\n",
       "                    --jp-widgets-color: white;\n",
       "                    --jp-widgets-label-color: white;\n",
       "                    --jp-ui-font-color1: white;\n",
       "                    --jp-layout-color2: #454545;\n",
       "                    background-color: #383838;\n",
       "                }\n",
       "\n",
       "                .geemap-dark .jupyter-button {\n",
       "                    --jp-layout-color3: #383838;\n",
       "                }\n",
       "\n",
       "                .geemap-colab {\n",
       "                    background-color: var(--colab-primary-surface-color, white);\n",
       "                }\n",
       "\n",
       "                .geemap-colab .jupyter-button {\n",
       "                    --jp-layout-color3: var(--colab-primary-surface-color, white);\n",
       "                }\n",
       "            </style>\n",
       "            "
      ],
      "text/plain": [
       "<IPython.core.display.HTML object>"
      ]
     },
     "metadata": {},
     "output_type": "display_data"
    },
    {
     "data": {
      "application/vnd.jupyter.widget-view+json": {
       "model_id": "712c3cdab3c64984bd6d3f8b4ee087b0",
       "version_major": 2,
       "version_minor": 0
      },
      "text/plain": [
       "Map(center=[17.611001107213966, 8.08094566045597], controls=(WidgetControl(options=['position', 'transparent_b…"
      ]
     },
     "execution_count": 65,
     "metadata": {},
     "output_type": "execute_result"
    }
   ],
   "source": [
    "treeCoverVisParam = {\n",
    "  'bands': ['treecover2000'],\n",
    "  'min': 0,\n",
    "  'max': 100,\n",
    "  'palette': ['black', 'green']\n",
    "}\n",
    "Map.addLayer(Hansen_GFC, treeCoverVisParam, 'tree cover')\n",
    "Map\n",
    "treeLossVisParam = {\n",
    "  'bands': ['lossyear'],\n",
    "  'min': 0,\n",
    "  'max': 20,\n",
    "  'palette': ['yellow', 'red']\n",
    "}\n",
    "Map.addLayer(Hansen_GFC, treeLossVisParam, 'tree loss year')\n",
    "Map"
   ]
  },
  {
   "cell_type": "code",
   "execution_count": 107,
   "id": "8a591554",
   "metadata": {},
   "outputs": [
    {
     "data": {
      "text/html": [
       "\n",
       "            <style>\n",
       "                .geemap-dark {\n",
       "                    --jp-widgets-color: white;\n",
       "                    --jp-widgets-label-color: white;\n",
       "                    --jp-ui-font-color1: white;\n",
       "                    --jp-layout-color2: #454545;\n",
       "                    background-color: #383838;\n",
       "                }\n",
       "\n",
       "                .geemap-dark .jupyter-button {\n",
       "                    --jp-layout-color3: #383838;\n",
       "                }\n",
       "\n",
       "                .geemap-colab {\n",
       "                    background-color: var(--colab-primary-surface-color, white);\n",
       "                }\n",
       "\n",
       "                .geemap-colab .jupyter-button {\n",
       "                    --jp-layout-color3: var(--colab-primary-surface-color, white);\n",
       "                }\n",
       "            </style>\n",
       "            "
      ],
      "text/plain": [
       "<IPython.core.display.HTML object>"
      ]
     },
     "metadata": {},
     "output_type": "display_data"
    },
    {
     "data": {
      "application/vnd.jupyter.widget-view+json": {
       "model_id": "242df4426b0d48d9b477ec59b9707d3a",
       "version_major": 2,
       "version_minor": 0
      },
      "text/plain": [
       "Map(center=[0, 0], controls=(WidgetControl(options=['position', 'transparent_bg'], widget=SearchDataGUI(childr…"
      ]
     },
     "execution_count": 107,
     "metadata": {},
     "output_type": "execute_result"
    }
   ],
   "source": [
    "Hansen = Hansen_GFC.clipToCollection(adm0_AOI)\n",
    "Map = geemap.Map()\n",
    "Map.centerObject(adm0_AOI)\n",
    "Map.addLayer(Hansen, treeLossVisParam, 'tree loss year')\n",
    "Map"
   ]
  },
  {
   "cell_type": "code",
   "execution_count": 111,
   "id": "9e70ad5b",
   "metadata": {},
   "outputs": [
    {
     "data": {
      "text/html": [
       "\n",
       "            <style>\n",
       "                .geemap-dark {\n",
       "                    --jp-widgets-color: white;\n",
       "                    --jp-widgets-label-color: white;\n",
       "                    --jp-ui-font-color1: white;\n",
       "                    --jp-layout-color2: #454545;\n",
       "                    background-color: #383838;\n",
       "                }\n",
       "\n",
       "                .geemap-dark .jupyter-button {\n",
       "                    --jp-layout-color3: #383838;\n",
       "                }\n",
       "\n",
       "                .geemap-colab {\n",
       "                    background-color: var(--colab-primary-surface-color, white);\n",
       "                }\n",
       "\n",
       "                .geemap-colab .jupyter-button {\n",
       "                    --jp-layout-color3: var(--colab-primary-surface-color, white);\n",
       "                }\n",
       "            </style>\n",
       "            "
      ],
      "text/plain": [
       "<IPython.core.display.HTML object>"
      ]
     },
     "metadata": {},
     "output_type": "display_data"
    },
    {
     "data": {
      "application/vnd.jupyter.widget-view+json": {
       "model_id": "242df4426b0d48d9b477ec59b9707d3a",
       "version_major": 2,
       "version_minor": 0
      },
      "text/plain": [
       "Map(bottom=30695.0, center=[12.924260634987867, 3.7380981445312504], controls=(WidgetControl(options=['positio…"
      ]
     },
     "execution_count": 111,
     "metadata": {},
     "output_type": "execute_result"
    }
   ],
   "source": [
    "#Create Mask, selecting \"loss year layer\" less than or equal to 2015\n",
    "aoiClearForestMask = Hansen.select(\"lossyear\").lte(deforestCompYear)\n",
    "#Mask Collection for only forests cleared between 2000 and 2015\n",
    "aoiClearedForest = Hansen.mask(aoiClearForestMask)\n",
    "aoiClearedForestLoss = aoiClearedForest.select('lossyear').gt(0).selfMask().rename(\"loss\")\n",
    "Map.addLayer(aoiClearedForestLoss, bin_viz, 'forest loss', 1)\n",
    "Map\n"
   ]
  },
  {
   "cell_type": "code",
   "execution_count": null,
   "id": "0209238f",
   "metadata": {},
   "outputs": [],
   "source": [
    "aoiClearedForestLoss = aoiClearedForestLoss.select('loss').unmask(0).clip(adm0_AOI)\n"
   ]
  },
  {
   "cell_type": "markdown",
   "id": "9f520368",
   "metadata": {},
   "source": [
    "\n",
    "\n",
    "-----------------\n",
    "## **Global Man-made Impervious Surface (GMIS) Dataset**\n",
    "-----------------"
   ]
  },
  {
   "cell_type": "code",
   "execution_count": 72,
   "id": "7fafa2d1",
   "metadata": {},
   "outputs": [
    {
     "data": {
      "text/html": [
       "\n",
       "            <style>\n",
       "                .geemap-dark {\n",
       "                    --jp-widgets-color: white;\n",
       "                    --jp-widgets-label-color: white;\n",
       "                    --jp-ui-font-color1: white;\n",
       "                    --jp-layout-color2: #454545;\n",
       "                    background-color: #383838;\n",
       "                }\n",
       "\n",
       "                .geemap-dark .jupyter-button {\n",
       "                    --jp-layout-color3: #383838;\n",
       "                }\n",
       "\n",
       "                .geemap-colab {\n",
       "                    background-color: var(--colab-primary-surface-color, white);\n",
       "                }\n",
       "\n",
       "                .geemap-colab .jupyter-button {\n",
       "                    --jp-layout-color3: var(--colab-primary-surface-color, white);\n",
       "                }\n",
       "            </style>\n",
       "            "
      ],
      "text/plain": [
       "<IPython.core.display.HTML object>"
      ]
     },
     "metadata": {},
     "output_type": "display_data"
    },
    {
     "data": {
      "application/vnd.jupyter.widget-view+json": {
       "model_id": "ccae3308ccbd4daf8b99bdad63790706",
       "version_major": 2,
       "version_minor": 0
      },
      "text/plain": [
       "Map(center=[17.416960840407572, 9.347520117112849], controls=(WidgetControl(options=['position', 'transparent_…"
      ]
     },
     "execution_count": 72,
     "metadata": {},
     "output_type": "execute_result"
    }
   ],
   "source": [
    "build_viz = {\n",
    "  'bands': ['change_year_index'],\n",
    "  'min': 0,\n",
    "  'max': 34,\n",
    "  'palette': [\n",
    "    '014352', '1a492c', '071ec4', 'b5ca36', '729eac', '8ea5de',\n",
    "    '818991', '62a3c3', 'ccf4fe', '74f0b9', '32bc55', 'c72144',\n",
    "    '56613b', 'c14683', 'c31c25', '5f6253', '11bf85', 'a61b26',\n",
    "    '99fbc5', '188aaa', 'c2d7f1', 'b7d9d8', '856f96', '109c6b',\n",
    "    '2de3f4', '9a777d', '151796', 'c033d8', '510037', '640c21',\n",
    "    '31a191', '223ab0', 'b692ac', '2de3f4',\n",
    "  ]\n",
    "}\n",
    "Map = geemap.Map()\n",
    "Map.centerObject(adm0_AOI)\n",
    "Map.addLayer(imperviousSurface, build_viz, 'Change year index')\n",
    "Map"
   ]
  },
  {
   "cell_type": "code",
   "execution_count": 114,
   "id": "660a0b22",
   "metadata": {},
   "outputs": [
    {
     "data": {
      "text/html": [
       "\n",
       "            <style>\n",
       "                .geemap-dark {\n",
       "                    --jp-widgets-color: white;\n",
       "                    --jp-widgets-label-color: white;\n",
       "                    --jp-ui-font-color1: white;\n",
       "                    --jp-layout-color2: #454545;\n",
       "                    background-color: #383838;\n",
       "                }\n",
       "\n",
       "                .geemap-dark .jupyter-button {\n",
       "                    --jp-layout-color3: #383838;\n",
       "                }\n",
       "\n",
       "                .geemap-colab {\n",
       "                    background-color: var(--colab-primary-surface-color, white);\n",
       "                }\n",
       "\n",
       "                .geemap-colab .jupyter-button {\n",
       "                    --jp-layout-color3: var(--colab-primary-surface-color, white);\n",
       "                }\n",
       "            </style>\n",
       "            "
      ],
      "text/plain": [
       "<IPython.core.display.HTML object>"
      ]
     },
     "metadata": {},
     "output_type": "display_data"
    },
    {
     "data": {
      "application/vnd.jupyter.widget-view+json": {
       "model_id": "86ca0ed3f4584110a7475adee30795c0",
       "version_major": 2,
       "version_minor": 0
      },
      "text/plain": [
       "Map(center=[0, 0], controls=(WidgetControl(options=['position', 'transparent_bg'], widget=SearchDataGUI(childr…"
      ]
     },
     "execution_count": 114,
     "metadata": {},
     "output_type": "execute_result"
    }
   ],
   "source": [
    "build_viz = {\n",
    "  'min': 0,\n",
    "  'max': 34,\n",
    "  'palette': [\n",
    "    '014352',  'white',\n",
    "  ]\n",
    "}\n",
    "Map = geemap.Map()\n",
    "Map.centerObject(adm0_AOI)\n",
    "Map.addLayer(ImperviousSurfaceGMIS, build_viz, 'impermeable Surface')\n",
    "Map"
   ]
  },
  {
   "cell_type": "code",
   "execution_count": 76,
   "id": "96c9bf1e",
   "metadata": {},
   "outputs": [
    {
     "data": {
      "text/html": [
       "\n",
       "            <style>\n",
       "                .geemap-dark {\n",
       "                    --jp-widgets-color: white;\n",
       "                    --jp-widgets-label-color: white;\n",
       "                    --jp-ui-font-color1: white;\n",
       "                    --jp-layout-color2: #454545;\n",
       "                    background-color: #383838;\n",
       "                }\n",
       "\n",
       "                .geemap-dark .jupyter-button {\n",
       "                    --jp-layout-color3: #383838;\n",
       "                }\n",
       "\n",
       "                .geemap-colab {\n",
       "                    background-color: var(--colab-primary-surface-color, white);\n",
       "                }\n",
       "\n",
       "                .geemap-colab .jupyter-button {\n",
       "                    --jp-layout-color3: var(--colab-primary-surface-color, white);\n",
       "                }\n",
       "            </style>\n",
       "            "
      ],
      "text/plain": [
       "<IPython.core.display.HTML object>"
      ]
     },
     "metadata": {},
     "output_type": "display_data"
    },
    {
     "data": {
      "text/plain": [
       "{'max': {'b1': 255},\n",
       " 'mean': {'b1': 199.9730860292445},\n",
       " 'min': {'b1': 0},\n",
       " 'std': {'b1': 4.39442130607637},\n",
       " 'sum': {'b1': 277514604874}}"
      ]
     },
     "execution_count": 76,
     "metadata": {},
     "output_type": "execute_result"
    }
   ],
   "source": [
    "geemap.image_stats(ImperviousSurfaceGMIS, scale=30).getInfo()"
   ]
  },
  {
   "cell_type": "code",
   "execution_count": 23,
   "id": "6f89e6b7",
   "metadata": {},
   "outputs": [
    {
     "data": {
      "text/html": [
       "\n",
       "            <style>\n",
       "                .geemap-dark {\n",
       "                    --jp-widgets-color: white;\n",
       "                    --jp-widgets-label-color: white;\n",
       "                    --jp-ui-font-color1: white;\n",
       "                    --jp-layout-color2: #454545;\n",
       "                    background-color: #383838;\n",
       "                }\n",
       "\n",
       "                .geemap-dark .jupyter-button {\n",
       "                    --jp-layout-color3: #383838;\n",
       "                }\n",
       "\n",
       "                .geemap-colab {\n",
       "                    background-color: var(--colab-primary-surface-color, white);\n",
       "                }\n",
       "\n",
       "                .geemap-colab .jupyter-button {\n",
       "                    --jp-layout-color3: var(--colab-primary-surface-color, white);\n",
       "                }\n",
       "            </style>\n",
       "            "
      ],
      "text/plain": [
       "<IPython.core.display.HTML object>"
      ]
     },
     "metadata": {},
     "output_type": "display_data"
    },
    {
     "data": {
      "application/vnd.jupyter.widget-view+json": {
       "model_id": "e77045b6cfe54bacb0b6c557b91daa25",
       "version_major": 2,
       "version_minor": 0
      },
      "text/plain": [
       "Map(center=[0, 0], controls=(WidgetControl(options=['position', 'transparent_bg'], widget=SearchDataGUI(childr…"
      ]
     },
     "execution_count": 23,
     "metadata": {},
     "output_type": "execute_result"
    }
   ],
   "source": [
    "GMIS_ImperviousSurface = ImperviousSurfaceGMIS\n",
    "impermeableSurface = GMIS_ImperviousSurface.lte(99).unmask(0).clip(adm0_AOI)\n",
    "#Initialize a Map\n",
    "Map = geemap.Map()\n",
    "Map.centerObject(adm0_AOI)\n",
    "Map.addLayer(impermeableSurface, bin_viz, 'impermeable Surface', 1)\n",
    "Map"
   ]
  },
  {
   "cell_type": "markdown",
   "id": "227a359e",
   "metadata": {},
   "source": [
    "\n",
    "-----------------\n",
    "## **Global Surface Water Dataset**\n",
    "-----------------"
   ]
  },
  {
   "cell_type": "code",
   "execution_count": 86,
   "id": "2b4a9225",
   "metadata": {},
   "outputs": [
    {
     "data": {
      "text/html": [
       "\n",
       "            <style>\n",
       "                .geemap-dark {\n",
       "                    --jp-widgets-color: white;\n",
       "                    --jp-widgets-label-color: white;\n",
       "                    --jp-ui-font-color1: white;\n",
       "                    --jp-layout-color2: #454545;\n",
       "                    background-color: #383838;\n",
       "                }\n",
       "\n",
       "                .geemap-dark .jupyter-button {\n",
       "                    --jp-layout-color3: #383838;\n",
       "                }\n",
       "\n",
       "                .geemap-colab {\n",
       "                    background-color: var(--colab-primary-surface-color, white);\n",
       "                }\n",
       "\n",
       "                .geemap-colab .jupyter-button {\n",
       "                    --jp-layout-color3: var(--colab-primary-surface-color, white);\n",
       "                }\n",
       "            </style>\n",
       "            "
      ],
      "text/plain": [
       "<IPython.core.display.HTML object>"
      ]
     },
     "metadata": {},
     "output_type": "display_data"
    },
    {
     "data": {
      "application/vnd.jupyter.widget-view+json": {
       "model_id": "4fb6e99b59824085a104eaf586b61548",
       "version_major": 2,
       "version_minor": 0
      },
      "text/plain": [
       "Map(center=[0, 0], controls=(WidgetControl(options=['position', 'transparent_bg'], widget=SearchDataGUI(childr…"
      ]
     },
     "execution_count": 86,
     "metadata": {},
     "output_type": "execute_result"
    }
   ],
   "source": [
    "visualization = {\n",
    "  'bands': ['occurrence'],\n",
    "  'min': 0.0,\n",
    "  'max': 100.0,\n",
    "  'palette': ['ffffff', 'ffbbbb', '0000ff']\n",
    "}\n",
    "#Initialize a Map\n",
    "Map = geemap.Map()\n",
    "Map.centerObject(adm0_AOI)\n",
    "Map.addLayer(surfaceWater, visualization, 'Occurrence')\n",
    "Map"
   ]
  },
  {
   "cell_type": "code",
   "execution_count": 87,
   "id": "40173f53",
   "metadata": {},
   "outputs": [
    {
     "data": {
      "text/html": [
       "\n",
       "            <style>\n",
       "                .geemap-dark {\n",
       "                    --jp-widgets-color: white;\n",
       "                    --jp-widgets-label-color: white;\n",
       "                    --jp-ui-font-color1: white;\n",
       "                    --jp-layout-color2: #454545;\n",
       "                    background-color: #383838;\n",
       "                }\n",
       "\n",
       "                .geemap-dark .jupyter-button {\n",
       "                    --jp-layout-color3: #383838;\n",
       "                }\n",
       "\n",
       "                .geemap-colab {\n",
       "                    background-color: var(--colab-primary-surface-color, white);\n",
       "                }\n",
       "\n",
       "                .geemap-colab .jupyter-button {\n",
       "                    --jp-layout-color3: var(--colab-primary-surface-color, white);\n",
       "                }\n",
       "            </style>\n",
       "            "
      ],
      "text/plain": [
       "<IPython.core.display.HTML object>"
      ]
     },
     "metadata": {},
     "output_type": "display_data"
    },
    {
     "data": {
      "application/vnd.jupyter.widget-view+json": {
       "model_id": "7f8983fa3eca43f2a1cfcb3aca13a348",
       "version_major": 2,
       "version_minor": 0
      },
      "text/plain": [
       "Map(center=[0, 0], controls=(WidgetControl(options=['position', 'transparent_bg'], widget=SearchDataGUI(childr…"
      ]
     },
     "execution_count": 87,
     "metadata": {},
     "output_type": "execute_result"
    }
   ],
   "source": [
    "#Clip JRC Image to Aoi and select \"occurrence\" band and unmask image so that nonwater pixels are 0\n",
    "surfaceWater = surfaceWater.select('occurrence').clip(adm0_AOI)\n",
    "#Initialize a Map\n",
    "Map = geemap.Map()\n",
    "Map.centerObject(adm0_AOI)\n",
    "Map.addLayer(surfaceWater, visualization, 'Occurrence')\n",
    "Map"
   ]
  },
  {
   "cell_type": "code",
   "execution_count": null,
   "id": "a9eaf7a6",
   "metadata": {},
   "outputs": [],
   "source": []
  },
  {
   "cell_type": "code",
   "execution_count": 89,
   "id": "625b7c06",
   "metadata": {},
   "outputs": [
    {
     "data": {
      "text/html": [
       "\n",
       "            <style>\n",
       "                .geemap-dark {\n",
       "                    --jp-widgets-color: white;\n",
       "                    --jp-widgets-label-color: white;\n",
       "                    --jp-ui-font-color1: white;\n",
       "                    --jp-layout-color2: #454545;\n",
       "                    background-color: #383838;\n",
       "                }\n",
       "\n",
       "                .geemap-dark .jupyter-button {\n",
       "                    --jp-layout-color3: #383838;\n",
       "                }\n",
       "\n",
       "                .geemap-colab {\n",
       "                    background-color: var(--colab-primary-surface-color, white);\n",
       "                }\n",
       "\n",
       "                .geemap-colab .jupyter-button {\n",
       "                    --jp-layout-color3: var(--colab-primary-surface-color, white);\n",
       "                }\n",
       "            </style>\n",
       "            "
      ],
      "text/plain": [
       "<IPython.core.display.HTML object>"
      ]
     },
     "metadata": {},
     "output_type": "display_data"
    },
    {
     "data": {
      "application/vnd.jupyter.widget-view+json": {
       "model_id": "eac4c035d5574bbda6a5cad4e7c78ff4",
       "version_major": 2,
       "version_minor": 0
      },
      "text/plain": [
       "Map(center=[0, 0], controls=(WidgetControl(options=['position', 'transparent_bg'], widget=SearchDataGUI(childr…"
      ]
     },
     "execution_count": 89,
     "metadata": {},
     "output_type": "execute_result"
    },
    {
     "name": "stderr",
     "output_type": "stream",
     "text": [
      "No such comm: fe06a4a336f747dca86c4437416c528b\n",
      "No such comm: 0f4adb9337504a3abf0e2bbf55506061\n",
      "No such comm: 8587a8992c9a47e2bc1649178b8308db\n",
      "No such comm: 0f4adb9337504a3abf0e2bbf55506061\n",
      "No such comm: 8587a8992c9a47e2bc1649178b8308db\n",
      "No such comm: 8587a8992c9a47e2bc1649178b8308db\n"
     ]
    }
   ],
   "source": [
    "WaterOccuring = surfaceWater.gt(occurrence_threshold).unmask(0).clip(adm0_AOI)\n",
    "water_viz = {\n",
    "  'min': 0,\n",
    "  'max': 1,\n",
    "  'palette': ['white', 'blue']\n",
    "}\n",
    "#Initialize a Map\n",
    "Map = geemap.Map()\n",
    "Map.centerObject(adm0_AOI)\n",
    "Map.addLayer(WaterOccuring, water_viz, 'Water Occuring', 1)\n",
    "Map"
   ]
  },
  {
   "cell_type": "markdown",
   "id": "3100517b",
   "metadata": {},
   "source": [
    "\n",
    "\n",
    "-----------------\n",
    "## **World’s protected areas**\n",
    "-----------------"
   ]
  },
  {
   "cell_type": "code",
   "execution_count": 33,
   "id": "5906c33d",
   "metadata": {},
   "outputs": [
    {
     "data": {
      "text/html": [
       "\n",
       "            <style>\n",
       "                .geemap-dark {\n",
       "                    --jp-widgets-color: white;\n",
       "                    --jp-widgets-label-color: white;\n",
       "                    --jp-ui-font-color1: white;\n",
       "                    --jp-layout-color2: #454545;\n",
       "                    background-color: #383838;\n",
       "                }\n",
       "\n",
       "                .geemap-dark .jupyter-button {\n",
       "                    --jp-layout-color3: #383838;\n",
       "                }\n",
       "\n",
       "                .geemap-colab {\n",
       "                    background-color: var(--colab-primary-surface-color, white);\n",
       "                }\n",
       "\n",
       "                .geemap-colab .jupyter-button {\n",
       "                    --jp-layout-color3: var(--colab-primary-surface-color, white);\n",
       "                }\n",
       "            </style>\n",
       "            "
      ],
      "text/plain": [
       "<IPython.core.display.HTML object>"
      ]
     },
     "metadata": {},
     "output_type": "display_data"
    },
    {
     "data": {
      "application/vnd.jupyter.widget-view+json": {
       "model_id": "98d8fcad5c1745f69546c16834be6efe",
       "version_major": 2,
       "version_minor": 0
      },
      "text/plain": [
       "Map(center=[0, 0], controls=(WidgetControl(options=['position', 'transparent_bg'], widget=SearchDataGUI(childr…"
      ]
     },
     "execution_count": 33,
     "metadata": {},
     "output_type": "execute_result"
    }
   ],
   "source": [
    "#Initialize a Map\n",
    "Map = geemap.Map()\n",
    "Map.centerObject(adm0_AOI)\n",
    "Map.addLayer(ProtectedAreaPolygons, {'color': 'red'}, 'Protected Areas polygons',1)\n",
    "Map\n"
   ]
  },
  {
   "cell_type": "code",
   "execution_count": 34,
   "id": "10577c1c",
   "metadata": {},
   "outputs": [
    {
     "data": {
      "text/html": [
       "\n",
       "            <style>\n",
       "                .geemap-dark {\n",
       "                    --jp-widgets-color: white;\n",
       "                    --jp-widgets-label-color: white;\n",
       "                    --jp-ui-font-color1: white;\n",
       "                    --jp-layout-color2: #454545;\n",
       "                    background-color: #383838;\n",
       "                }\n",
       "\n",
       "                .geemap-dark .jupyter-button {\n",
       "                    --jp-layout-color3: #383838;\n",
       "                }\n",
       "\n",
       "                .geemap-colab {\n",
       "                    background-color: var(--colab-primary-surface-color, white);\n",
       "                }\n",
       "\n",
       "                .geemap-colab .jupyter-button {\n",
       "                    --jp-layout-color3: var(--colab-primary-surface-color, white);\n",
       "                }\n",
       "            </style>\n",
       "            "
      ],
      "text/plain": [
       "<IPython.core.display.HTML object>"
      ]
     },
     "metadata": {},
     "output_type": "display_data"
    },
    {
     "data": {
      "application/vnd.jupyter.widget-view+json": {
       "model_id": "98d8fcad5c1745f69546c16834be6efe",
       "version_major": 2,
       "version_minor": 0
      },
      "text/plain": [
       "Map(bottom=30857.0, center=[12.055437094469546, 2.3812866210937504], controls=(WidgetControl(options=['positio…"
      ]
     },
     "execution_count": 34,
     "metadata": {},
     "output_type": "execute_result"
    }
   ],
   "source": [
    "Map.addLayer(ProtectedAreaPoints, {'color': 'red'}, 'Protected Areas points')\n",
    "Map"
   ]
  },
  {
   "cell_type": "code",
   "execution_count": 38,
   "id": "4e35b85f",
   "metadata": {},
   "outputs": [
    {
     "data": {
      "text/html": [
       "\n",
       "            <style>\n",
       "                .geemap-dark {\n",
       "                    --jp-widgets-color: white;\n",
       "                    --jp-widgets-label-color: white;\n",
       "                    --jp-ui-font-color1: white;\n",
       "                    --jp-layout-color2: #454545;\n",
       "                    background-color: #383838;\n",
       "                }\n",
       "\n",
       "                .geemap-dark .jupyter-button {\n",
       "                    --jp-layout-color3: #383838;\n",
       "                }\n",
       "\n",
       "                .geemap-colab {\n",
       "                    background-color: var(--colab-primary-surface-color, white);\n",
       "                }\n",
       "\n",
       "                .geemap-colab .jupyter-button {\n",
       "                    --jp-layout-color3: var(--colab-primary-surface-color, white);\n",
       "                }\n",
       "            </style>\n",
       "            "
      ],
      "text/plain": [
       "<IPython.core.display.HTML object>"
      ]
     },
     "metadata": {},
     "output_type": "display_data"
    }
   ],
   "source": [
    "inProtectedArea = 1\n",
    "outProtectedArea = 0\n",
    "outProtectedAreaImage = ee.Image(outProtectedArea).clip(adm0_AOI)\n",
    "intProtectedAreaImage = ee.Image(inProtectedArea).clip(ProtectedAreaPolygons)\n",
    "ProtectedAreaImage = outProtectedAreaImage.where(**{'test':intProtectedAreaImage, 'value':intProtectedAreaImage})\n",
    "ProtectedAreaImage = ProtectedAreaImage.clip(adm0_AOI)"
   ]
  },
  {
   "cell_type": "code",
   "execution_count": 39,
   "id": "bd13b312",
   "metadata": {},
   "outputs": [
    {
     "data": {
      "text/html": [
       "\n",
       "            <style>\n",
       "                .geemap-dark {\n",
       "                    --jp-widgets-color: white;\n",
       "                    --jp-widgets-label-color: white;\n",
       "                    --jp-ui-font-color1: white;\n",
       "                    --jp-layout-color2: #454545;\n",
       "                    background-color: #383838;\n",
       "                }\n",
       "\n",
       "                .geemap-dark .jupyter-button {\n",
       "                    --jp-layout-color3: #383838;\n",
       "                }\n",
       "\n",
       "                .geemap-colab {\n",
       "                    background-color: var(--colab-primary-surface-color, white);\n",
       "                }\n",
       "\n",
       "                .geemap-colab .jupyter-button {\n",
       "                    --jp-layout-color3: var(--colab-primary-surface-color, white);\n",
       "                }\n",
       "            </style>\n",
       "            "
      ],
      "text/plain": [
       "<IPython.core.display.HTML object>"
      ]
     },
     "metadata": {},
     "output_type": "display_data"
    },
    {
     "data": {
      "application/vnd.jupyter.widget-view+json": {
       "model_id": "98d8fcad5c1745f69546c16834be6efe",
       "version_major": 2,
       "version_minor": 0
      },
      "text/plain": [
       "Map(bottom=4029.0, center=[15.919073517982426, 4.899902343750001], controls=(WidgetControl(options=['position'…"
      ]
     },
     "execution_count": 39,
     "metadata": {},
     "output_type": "execute_result"
    }
   ],
   "source": [
    "Map.addLayer(ProtectedAreaImage, bin_viz, 'Protected Area Image', 1)\n",
    "Map"
   ]
  },
  {
   "cell_type": "code",
   "execution_count": 41,
   "id": "5bcf281c",
   "metadata": {},
   "outputs": [
    {
     "data": {
      "text/html": [
       "\n",
       "            <style>\n",
       "                .geemap-dark {\n",
       "                    --jp-widgets-color: white;\n",
       "                    --jp-widgets-label-color: white;\n",
       "                    --jp-ui-font-color1: white;\n",
       "                    --jp-layout-color2: #454545;\n",
       "                    background-color: #383838;\n",
       "                }\n",
       "\n",
       "                .geemap-dark .jupyter-button {\n",
       "                    --jp-layout-color3: #383838;\n",
       "                }\n",
       "\n",
       "                .geemap-colab {\n",
       "                    background-color: var(--colab-primary-surface-color, white);\n",
       "                }\n",
       "\n",
       "                .geemap-colab .jupyter-button {\n",
       "                    --jp-layout-color3: var(--colab-primary-surface-color, white);\n",
       "                }\n",
       "            </style>\n",
       "            "
      ],
      "text/plain": [
       "<IPython.core.display.HTML object>"
      ]
     },
     "metadata": {},
     "output_type": "display_data"
    }
   ],
   "source": [
    "intProtectedAreaImage = ee.Image(inProtectedArea).clip(ProtectedAreaPoints)\n",
    "PointsToImage = outProtectedAreaImage.where(**{'test':intProtectedAreaImage, 'value':intProtectedAreaImage})\n",
    "PointsToImage = PointsToImage.clip(adm0_AOI)"
   ]
  },
  {
   "cell_type": "code",
   "execution_count": 42,
   "id": "3e54e1d9",
   "metadata": {},
   "outputs": [
    {
     "data": {
      "text/html": [
       "\n",
       "            <style>\n",
       "                .geemap-dark {\n",
       "                    --jp-widgets-color: white;\n",
       "                    --jp-widgets-label-color: white;\n",
       "                    --jp-ui-font-color1: white;\n",
       "                    --jp-layout-color2: #454545;\n",
       "                    background-color: #383838;\n",
       "                }\n",
       "\n",
       "                .geemap-dark .jupyter-button {\n",
       "                    --jp-layout-color3: #383838;\n",
       "                }\n",
       "\n",
       "                .geemap-colab {\n",
       "                    background-color: var(--colab-primary-surface-color, white);\n",
       "                }\n",
       "\n",
       "                .geemap-colab .jupyter-button {\n",
       "                    --jp-layout-color3: var(--colab-primary-surface-color, white);\n",
       "                }\n",
       "            </style>\n",
       "            "
      ],
      "text/plain": [
       "<IPython.core.display.HTML object>"
      ]
     },
     "metadata": {},
     "output_type": "display_data"
    },
    {
     "data": {
      "application/vnd.jupyter.widget-view+json": {
       "model_id": "98d8fcad5c1745f69546c16834be6efe",
       "version_major": 2,
       "version_minor": 0
      },
      "text/plain": [
       "Map(bottom=4029.0, center=[15.919073517982426, 4.899902343750001], controls=(WidgetControl(options=['position'…"
      ]
     },
     "execution_count": 42,
     "metadata": {},
     "output_type": "execute_result"
    }
   ],
   "source": [
    "Map.addLayer(PointsToImage, bin_viz, 'Points  Image', 1)\n",
    "Map"
   ]
  },
  {
   "cell_type": "code",
   "execution_count": 49,
   "id": "544db7d4",
   "metadata": {},
   "outputs": [
    {
     "data": {
      "text/html": [
       "\n",
       "            <style>\n",
       "                .geemap-dark {\n",
       "                    --jp-widgets-color: white;\n",
       "                    --jp-widgets-label-color: white;\n",
       "                    --jp-ui-font-color1: white;\n",
       "                    --jp-layout-color2: #454545;\n",
       "                    background-color: #383838;\n",
       "                }\n",
       "\n",
       "                .geemap-dark .jupyter-button {\n",
       "                    --jp-layout-color3: #383838;\n",
       "                }\n",
       "\n",
       "                .geemap-colab {\n",
       "                    background-color: var(--colab-primary-surface-color, white);\n",
       "                }\n",
       "\n",
       "                .geemap-colab .jupyter-button {\n",
       "                    --jp-layout-color3: var(--colab-primary-surface-color, white);\n",
       "                }\n",
       "            </style>\n",
       "            "
      ],
      "text/plain": [
       "<IPython.core.display.HTML object>"
      ]
     },
     "metadata": {},
     "output_type": "display_data"
    }
   ],
   "source": [
    "aoiCropland = arableFromCropland.add(aoiClearedForestLoss).gte(1).selfMask().rename('arableLand')\n",
    "arableLand_draft = aoiCropland.select('arableLand').unmask(0).clip(adm0_AOI)\n",
    "arableLand_draft = arableLand_draft.subtract(ProtectedAreaImage).subtract(PointsToImage).subtract(WaterOccuring).subtract(impermeableSurface).rename('arableLand')\n",
    "arableLand = arableLand_draft.eq(1).unmask(0).clip(adm0_AOI)\n"
   ]
  },
  {
   "cell_type": "code",
   "execution_count": 50,
   "id": "8790cb35",
   "metadata": {},
   "outputs": [
    {
     "data": {
      "text/html": [
       "\n",
       "            <style>\n",
       "                .geemap-dark {\n",
       "                    --jp-widgets-color: white;\n",
       "                    --jp-widgets-label-color: white;\n",
       "                    --jp-ui-font-color1: white;\n",
       "                    --jp-layout-color2: #454545;\n",
       "                    background-color: #383838;\n",
       "                }\n",
       "\n",
       "                .geemap-dark .jupyter-button {\n",
       "                    --jp-layout-color3: #383838;\n",
       "                }\n",
       "\n",
       "                .geemap-colab {\n",
       "                    background-color: var(--colab-primary-surface-color, white);\n",
       "                }\n",
       "\n",
       "                .geemap-colab .jupyter-button {\n",
       "                    --jp-layout-color3: var(--colab-primary-surface-color, white);\n",
       "                }\n",
       "            </style>\n",
       "            "
      ],
      "text/plain": [
       "<IPython.core.display.HTML object>"
      ]
     },
     "metadata": {},
     "output_type": "display_data"
    },
    {
     "data": {
      "application/vnd.jupyter.widget-view+json": {
       "model_id": "bcbcd466215b43c7b32b0f7d20ca3dd8",
       "version_major": 2,
       "version_minor": 0
      },
      "text/plain": [
       "Map(center=[0, 0], controls=(WidgetControl(options=['position', 'transparent_bg'], widget=SearchDataGUI(childr…"
      ]
     },
     "execution_count": 50,
     "metadata": {},
     "output_type": "execute_result"
    }
   ],
   "source": [
    "#Initialize a Map\n",
    "Map = geemap.Map()\n",
    "Map.centerObject(adm0_AOI)\n",
    "Map.addLayer(arableLand, bin_viz, 'Arable land', 1)\n",
    "Map"
   ]
  },
  {
   "cell_type": "code",
   "execution_count": 52,
   "id": "4347ce9d",
   "metadata": {},
   "outputs": [
    {
     "data": {
      "text/html": [
       "\n",
       "            <style>\n",
       "                .geemap-dark {\n",
       "                    --jp-widgets-color: white;\n",
       "                    --jp-widgets-label-color: white;\n",
       "                    --jp-ui-font-color1: white;\n",
       "                    --jp-layout-color2: #454545;\n",
       "                    background-color: #383838;\n",
       "                }\n",
       "\n",
       "                .geemap-dark .jupyter-button {\n",
       "                    --jp-layout-color3: #383838;\n",
       "                }\n",
       "\n",
       "                .geemap-colab {\n",
       "                    background-color: var(--colab-primary-surface-color, white);\n",
       "                }\n",
       "\n",
       "                .geemap-colab .jupyter-button {\n",
       "                    --jp-layout-color3: var(--colab-primary-surface-color, white);\n",
       "                }\n",
       "            </style>\n",
       "            "
      ],
      "text/plain": [
       "<IPython.core.display.HTML object>"
      ]
     },
     "metadata": {},
     "output_type": "display_data"
    }
   ],
   "source": [
    "resolution = arableLand.projection().nominalScale()"
   ]
  },
  {
   "cell_type": "code",
   "execution_count": 54,
   "id": "7d20893a",
   "metadata": {},
   "outputs": [
    {
     "data": {
      "text/html": [
       "\n",
       "            <style>\n",
       "                .geemap-dark {\n",
       "                    --jp-widgets-color: white;\n",
       "                    --jp-widgets-label-color: white;\n",
       "                    --jp-ui-font-color1: white;\n",
       "                    --jp-layout-color2: #454545;\n",
       "                    background-color: #383838;\n",
       "                }\n",
       "\n",
       "                .geemap-dark .jupyter-button {\n",
       "                    --jp-layout-color3: #383838;\n",
       "                }\n",
       "\n",
       "                .geemap-colab {\n",
       "                    background-color: var(--colab-primary-surface-color, white);\n",
       "                }\n",
       "\n",
       "                .geemap-colab .jupyter-button {\n",
       "                    --jp-layout-color3: var(--colab-primary-surface-color, white);\n",
       "                }\n",
       "            </style>\n",
       "            "
      ],
      "text/plain": [
       "<IPython.core.display.HTML object>"
      ]
     },
     "metadata": {},
     "output_type": "display_data"
    }
   ],
   "source": [
    "def calculateFeatureSum(feature):\n",
    "    areas = arableLand.reduceRegion(**{\n",
    "    'reducer': ee.Reducer.sum(),\n",
    "    'geometry': feature.geometry(),\n",
    "    'scale': resolution,\n",
    "   'maxPixels': 1e20\n",
    "    })\n",
    "    adm1_name = feature.get('NAME')\n",
    "    return ee.Feature(\n",
    "      feature.geometry(),\n",
    "      areas.set('NAME', adm1_name))"
   ]
  },
  {
   "cell_type": "code",
   "execution_count": 57,
   "id": "8a03923a",
   "metadata": {},
   "outputs": [
    {
     "data": {
      "text/html": [
       "\n",
       "            <style>\n",
       "                .geemap-dark {\n",
       "                    --jp-widgets-color: white;\n",
       "                    --jp-widgets-label-color: white;\n",
       "                    --jp-ui-font-color1: white;\n",
       "                    --jp-layout-color2: #454545;\n",
       "                    background-color: #383838;\n",
       "                }\n",
       "\n",
       "                .geemap-dark .jupyter-button {\n",
       "                    --jp-layout-color3: #383838;\n",
       "                }\n",
       "\n",
       "                .geemap-colab {\n",
       "                    background-color: var(--colab-primary-surface-color, white);\n",
       "                }\n",
       "\n",
       "                .geemap-colab .jupyter-button {\n",
       "                    --jp-layout-color3: var(--colab-primary-surface-color, white);\n",
       "                }\n",
       "            </style>\n",
       "            "
      ],
      "text/plain": [
       "<IPython.core.display.HTML object>"
      ]
     },
     "metadata": {},
     "output_type": "display_data"
    }
   ],
   "source": [
    "#Map Function to Create\n",
    "sumArable_byADM2 = NER_adm2.map(calculateFeatureSum)"
   ]
  },
  {
   "cell_type": "code",
   "execution_count": 58,
   "id": "768897cd",
   "metadata": {},
   "outputs": [
    {
     "data": {
      "text/html": [
       "\n",
       "            <style>\n",
       "                .geemap-dark {\n",
       "                    --jp-widgets-color: white;\n",
       "                    --jp-widgets-label-color: white;\n",
       "                    --jp-ui-font-color1: white;\n",
       "                    --jp-layout-color2: #454545;\n",
       "                    background-color: #383838;\n",
       "                }\n",
       "\n",
       "                .geemap-dark .jupyter-button {\n",
       "                    --jp-layout-color3: #383838;\n",
       "                }\n",
       "\n",
       "                .geemap-colab {\n",
       "                    background-color: var(--colab-primary-surface-color, white);\n",
       "                }\n",
       "\n",
       "                .geemap-colab .jupyter-button {\n",
       "                    --jp-layout-color3: var(--colab-primary-surface-color, white);\n",
       "                }\n",
       "            </style>\n",
       "            "
      ],
      "text/plain": [
       "<IPython.core.display.HTML object>"
      ]
     },
     "metadata": {},
     "output_type": "display_data"
    }
   ],
   "source": [
    "df_sumArable_byADM2 = geemap.ee_to_df(sumArable_byADM2, sort_columns=True)"
   ]
  },
  {
   "cell_type": "code",
   "execution_count": 59,
   "id": "9a9f4380",
   "metadata": {},
   "outputs": [
    {
     "data": {
      "text/html": [
       "\n",
       "            <style>\n",
       "                .geemap-dark {\n",
       "                    --jp-widgets-color: white;\n",
       "                    --jp-widgets-label-color: white;\n",
       "                    --jp-ui-font-color1: white;\n",
       "                    --jp-layout-color2: #454545;\n",
       "                    background-color: #383838;\n",
       "                }\n",
       "\n",
       "                .geemap-dark .jupyter-button {\n",
       "                    --jp-layout-color3: #383838;\n",
       "                }\n",
       "\n",
       "                .geemap-colab {\n",
       "                    background-color: var(--colab-primary-surface-color, white);\n",
       "                }\n",
       "\n",
       "                .geemap-colab .jupyter-button {\n",
       "                    --jp-layout-color3: var(--colab-primary-surface-color, white);\n",
       "                }\n",
       "            </style>\n",
       "            "
      ],
      "text/plain": [
       "<IPython.core.display.HTML object>"
      ]
     },
     "metadata": {},
     "output_type": "display_data"
    },
    {
     "data": {
      "text/html": [
       "<div>\n",
       "<style scoped>\n",
       "    .dataframe tbody tr th:only-of-type {\n",
       "        vertical-align: middle;\n",
       "    }\n",
       "\n",
       "    .dataframe tbody tr th {\n",
       "        vertical-align: top;\n",
       "    }\n",
       "\n",
       "    .dataframe thead th {\n",
       "        text-align: right;\n",
       "    }\n",
       "</style>\n",
       "<table border=\"1\" class=\"dataframe\">\n",
       "  <thead>\n",
       "    <tr style=\"text-align: right;\">\n",
       "      <th></th>\n",
       "      <th>NAME</th>\n",
       "      <th>arableLand</th>\n",
       "    </tr>\n",
       "  </thead>\n",
       "  <tbody>\n",
       "    <tr>\n",
       "      <th>0</th>\n",
       "      <td>Abala</td>\n",
       "      <td>1.930656e+05</td>\n",
       "    </tr>\n",
       "    <tr>\n",
       "      <th>1</th>\n",
       "      <td>Abalak</td>\n",
       "      <td>8.232675e+05</td>\n",
       "    </tr>\n",
       "    <tr>\n",
       "      <th>2</th>\n",
       "      <td>Aderbissanat</td>\n",
       "      <td>9.660157e+03</td>\n",
       "    </tr>\n",
       "    <tr>\n",
       "      <th>3</th>\n",
       "      <td>Agui�</td>\n",
       "      <td>2.247291e+06</td>\n",
       "    </tr>\n",
       "    <tr>\n",
       "      <th>4</th>\n",
       "      <td>Arlit</td>\n",
       "      <td>8.000000e+00</td>\n",
       "    </tr>\n",
       "  </tbody>\n",
       "</table>\n",
       "</div>"
      ],
      "text/plain": [
       "           NAME    arableLand\n",
       "0         Abala  1.930656e+05\n",
       "1        Abalak  8.232675e+05\n",
       "2  Aderbissanat  9.660157e+03\n",
       "3         Agui�  2.247291e+06\n",
       "4         Arlit  8.000000e+00"
      ]
     },
     "execution_count": 59,
     "metadata": {},
     "output_type": "execute_result"
    }
   ],
   "source": [
    "df_sumArable_byADM2.head()"
   ]
  },
  {
   "cell_type": "code",
   "execution_count": 60,
   "id": "351ef58f",
   "metadata": {},
   "outputs": [
    {
     "data": {
      "text/html": [
       "\n",
       "            <style>\n",
       "                .geemap-dark {\n",
       "                    --jp-widgets-color: white;\n",
       "                    --jp-widgets-label-color: white;\n",
       "                    --jp-ui-font-color1: white;\n",
       "                    --jp-layout-color2: #454545;\n",
       "                    background-color: #383838;\n",
       "                }\n",
       "\n",
       "                .geemap-dark .jupyter-button {\n",
       "                    --jp-layout-color3: #383838;\n",
       "                }\n",
       "\n",
       "                .geemap-colab {\n",
       "                    background-color: var(--colab-primary-surface-color, white);\n",
       "                }\n",
       "\n",
       "                .geemap-colab .jupyter-button {\n",
       "                    --jp-layout-color3: var(--colab-primary-surface-color, white);\n",
       "                }\n",
       "            </style>\n",
       "            "
      ],
      "text/plain": [
       "<IPython.core.display.HTML object>"
      ]
     },
     "metadata": {},
     "output_type": "display_data"
    },
    {
     "name": "stdout",
     "output_type": "stream",
     "text": [
      "<class 'pandas.core.frame.DataFrame'>\n",
      "RangeIndex: 64 entries, 0 to 63\n",
      "Data columns (total 2 columns):\n",
      " #   Column      Non-Null Count  Dtype  \n",
      "---  ------      --------------  -----  \n",
      " 0   NAME        64 non-null     object \n",
      " 1   arableLand  64 non-null     float64\n",
      "dtypes: float64(1), object(1)\n",
      "memory usage: 1.1+ KB\n"
     ]
    }
   ],
   "source": [
    "# Checking the info of the dataset\n",
    "df_sumArable_byADM2.info()"
   ]
  },
  {
   "cell_type": "markdown",
   "id": "866d4025",
   "metadata": {},
   "source": [
    "-----------------\n",
    "## **Export to CSV**\n",
    "-----------------"
   ]
  },
  {
   "cell_type": "code",
   "execution_count": 115,
   "id": "fc7f598e",
   "metadata": {},
   "outputs": [
    {
     "data": {
      "text/html": [
       "\n",
       "            <style>\n",
       "                .geemap-dark {\n",
       "                    --jp-widgets-color: white;\n",
       "                    --jp-widgets-label-color: white;\n",
       "                    --jp-ui-font-color1: white;\n",
       "                    --jp-layout-color2: #454545;\n",
       "                    background-color: #383838;\n",
       "                }\n",
       "\n",
       "                .geemap-dark .jupyter-button {\n",
       "                    --jp-layout-color3: #383838;\n",
       "                }\n",
       "\n",
       "                .geemap-colab {\n",
       "                    background-color: var(--colab-primary-surface-color, white);\n",
       "                }\n",
       "\n",
       "                .geemap-colab .jupyter-button {\n",
       "                    --jp-layout-color3: var(--colab-primary-surface-color, white);\n",
       "                }\n",
       "            </style>\n",
       "            "
      ],
      "text/plain": [
       "<IPython.core.display.HTML object>"
      ]
     },
     "metadata": {},
     "output_type": "display_data"
    }
   ],
   "source": [
    "geemap.ee_to_csv(sumArable_byADM2, filename='Niger_Arable_land.csv') #Specify year"
   ]
  },
  {
   "cell_type": "code",
   "execution_count": 70,
   "id": "1a55645e",
   "metadata": {},
   "outputs": [
    {
     "data": {
      "text/html": [
       "\n",
       "            <style>\n",
       "                .geemap-dark {\n",
       "                    --jp-widgets-color: white;\n",
       "                    --jp-widgets-label-color: white;\n",
       "                    --jp-ui-font-color1: white;\n",
       "                    --jp-layout-color2: #454545;\n",
       "                    background-color: #383838;\n",
       "                }\n",
       "\n",
       "                .geemap-dark .jupyter-button {\n",
       "                    --jp-layout-color3: #383838;\n",
       "                }\n",
       "\n",
       "                .geemap-colab {\n",
       "                    background-color: var(--colab-primary-surface-color, white);\n",
       "                }\n",
       "\n",
       "                .geemap-colab .jupyter-button {\n",
       "                    --jp-layout-color3: var(--colab-primary-surface-color, white);\n",
       "                }\n",
       "            </style>\n",
       "            "
      ],
      "text/plain": [
       "<IPython.core.display.HTML object>"
      ]
     },
     "metadata": {},
     "output_type": "display_data"
    }
   ],
   "source": [
    "snippet = \"\"\"\n",
    "var visualization = {\n",
    "  bands: ['change_year_index'],\n",
    "  min: 0,\n",
    "  max: 34,\n",
    "  palette: [\n",
    "    '014352', '1a492c', '071ec4', 'b5ca36', '729eac', '8ea5de',\n",
    "    '818991', '62a3c3', 'ccf4fe', '74f0b9', '32bc55', 'c72144',\n",
    "    '56613b', 'c14683', 'c31c25', '5f6253', '11bf85', 'a61b26',\n",
    "    '99fbc5', '188aaa', 'c2d7f1', 'b7d9d8', '856f96', '109c6b',\n",
    "    '2de3f4', '9a777d', '151796', 'c033d8', '510037', '640c21',\n",
    "    '31a191', '223ab0', 'b692ac', '2de3f4',\n",
    "  ]\n",
    "};\n",
    "\n",
    "Map.setCenter(-37.62, 25.8, 2);\n",
    "\n",
    "Map.addLayer(dataset, visualization, 'Change year index');\n",
    "\n",
    "\"\"\"\n",
    "\n",
    "geemap.js_snippet_to_py(snippet, add_new_cell=True, import_ee=False)\n"
   ]
  },
  {
   "cell_type": "code",
   "execution_count": null,
   "id": "45854dc5",
   "metadata": {},
   "outputs": [],
   "source": [
    "\n",
    "\n",
    "m"
   ]
  },
  {
   "cell_type": "code",
   "execution_count": null,
   "id": "6bc01aee",
   "metadata": {},
   "outputs": [],
   "source": []
  },
  {
   "cell_type": "code",
   "execution_count": null,
   "id": "115a325c",
   "metadata": {},
   "outputs": [],
   "source": []
  },
  {
   "cell_type": "code",
   "execution_count": null,
   "id": "dda854c7",
   "metadata": {},
   "outputs": [],
   "source": []
  }
 ],
 "metadata": {
  "kernelspec": {
   "display_name": "Python 3 (ipykernel)",
   "language": "python",
   "name": "python3"
  },
  "language_info": {
   "codemirror_mode": {
    "name": "ipython",
    "version": 3
   },
   "file_extension": ".py",
   "mimetype": "text/x-python",
   "name": "python",
   "nbconvert_exporter": "python",
   "pygments_lexer": "ipython3",
   "version": "3.11.5"
  }
 },
 "nbformat": 4,
 "nbformat_minor": 5
}
