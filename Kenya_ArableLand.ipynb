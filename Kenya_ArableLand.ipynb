{
 "cells": [
  {
   "cell_type": "code",
   "execution_count": 2,
   "id": "e8029fed",
   "metadata": {},
   "outputs": [
    {
     "data": {
      "text/html": [
       "<p>To authorize access needed by Earth Engine, open the following\n",
       "        URL in a web browser and follow the instructions:</p>\n",
       "        <p><a href=https://code.earthengine.google.com/client-auth?scopes=https%3A//www.googleapis.com/auth/earthengine%20https%3A//www.googleapis.com/auth/devstorage.full_control&request_id=cgQgUja0E9SYAm4bYMj3EBTevb6uWsaNAaDJS1iEXbc&tc=odQ4pfmGxt2rzBGAcsforkhFf_OvyeNG_hryWgaeiGY&cc=4sYYhvjFmUhLqOTEL1ea6OvPEHcZkI9WgGPqrrJ1t8g>https://code.earthengine.google.com/client-auth?scopes=https%3A//www.googleapis.com/auth/earthengine%20https%3A//www.googleapis.com/auth/devstorage.full_control&request_id=cgQgUja0E9SYAm4bYMj3EBTevb6uWsaNAaDJS1iEXbc&tc=odQ4pfmGxt2rzBGAcsforkhFf_OvyeNG_hryWgaeiGY&cc=4sYYhvjFmUhLqOTEL1ea6OvPEHcZkI9WgGPqrrJ1t8g</a></p>\n",
       "        <p>The authorization workflow will generate a code, which you should paste in the box below.</p>\n",
       "        "
      ],
      "text/plain": [
       "<IPython.core.display.HTML object>"
      ]
     },
     "metadata": {},
     "output_type": "display_data"
    },
    {
     "name": "stdout",
     "output_type": "stream",
     "text": [
      "Enter verification code: 4/1AWtgzh5KMq6HgIBpNqfwHasW3mLp4YM2d5UHhUlEQP0gqgOCPSMdeffv6CA\n",
      "\n",
      "Successfully saved authorization token.\n"
     ]
    }
   ],
   "source": [
    "import ee\n",
    "ee.Authenticate()\n",
    "ee.Initialize()\n"
   ]
  },
  {
   "cell_type": "code",
   "execution_count": 4,
   "id": "e01eb8da",
   "metadata": {},
   "outputs": [],
   "source": [
    "Hansen_GFC = ee.Image(\"UMD/hansen/global_forest_change_2020_v1_8\")\n",
    "SRTM = ee.Image(\"USGS/SRTMGL1_003\")\n",
    "surfaceWater = ee.Image(\"JRC/GSW1_3/GlobalSurfaceWater\")\n",
    "#imperviousSurface = ee.Image(\"Tsinghua/FROM-GLC/GAIA/v10\")\n",
    "#GAUL_adm1 = ee.FeatureCollection(\"FAO/GAUL/2015/level1\")\n",
    "GFSAD30AFCE_2015_KEN_1 = ee.Image(\"projects/ee-aboubacarhema94/assets/Kenya/GFSAD30AFCE_2015_KEN_1\")\n",
    "GFSAD30AFCE_2015_KEN_2 = ee.Image(\"projects/ee-aboubacarhema94/assets/Kenya/GFSAD30AFCE_2015_KEN_2\")\n",
    "GFSAD30AFCE_2015_KEN_3 = ee.Image(\"projects/ee-aboubacarhema94/assets/Kenya/GFSAD30AFCE_2015_KEN_3\")\n",
    "GFSAD30AFCE_2015_KEN_4 = ee.Image(\"projects/ee-aboubacarhema94/assets/Kenya/GFSAD30AFCE_2015_KEN_4\")\n",
    "PAG_KEN_mosaic = ee.Image(\"projects/ee-aboubacarhema94/assets/Kenya/PAG_KEN_mosaic\")\n",
    "ImperviousSurfaceKEN = ee.Image(\"projects/ee-aboubacarhema94/assets/Kenya/KEN_gmis_impervious_surface_percentage_geographic_30m\")\n",
    "GAUL_adm1 = ee.FeatureCollection(\"projects/ee-aboubacarhema94/assets/Kenya/gadm41_KEN_1\")\n",
    "GAUL_adm0 = ee.FeatureCollection(\"projects/ee-aboubacarhema94/assets/Kenya/gadm41_KEN_0\")\n",
    "geometry = ee.Geometry.Polygon(\n",
    "        [[[33.487619647710574, 5.262415464986558],\n",
    "          [33.487619647710574, -5.182074987365432],\n",
    "          [43.309396991460574, -5.182074987365432],\n",
    "          [43.309396991460574, 5.262415464986558]]]),\n",
    "ProtectedAreaPoints = ee.FeatureCollection(\"projects/ee-aboubacarhema94/assets/Kenya/ProtectedAreaPoints\"),\n",
    "ProtectedAreaPolygons = ee.FeatureCollection(\"projects/ee-aboubacarhema94/assets/Kenya/ProtectedAreaPolygons\")"
   ]
  },
  {
   "cell_type": "code",
   "execution_count": 7,
   "id": "b8815e19",
   "metadata": {},
   "outputs": [
    {
     "ename": "NameError",
     "evalue": "name 'Map' is not defined",
     "output_type": "error",
     "traceback": [
      "\u001b[1;31m---------------------------------------------------------------------------\u001b[0m",
      "\u001b[1;31mNameError\u001b[0m                                 Traceback (most recent call last)",
      "\u001b[1;32m~\\AppData\\Local\\Temp\\ipykernel_34452\\4048209189.py\u001b[0m in \u001b[0;36m<module>\u001b[1;34m\u001b[0m\n\u001b[0;32m     21\u001b[0m \u001b[0madm0_AOI\u001b[0m \u001b[1;33m=\u001b[0m \u001b[0mGAUL_adm0\u001b[0m\u001b[1;33m;\u001b[0m\u001b[1;33m\u001b[0m\u001b[1;33m\u001b[0m\u001b[0m\n\u001b[0;32m     22\u001b[0m \u001b[0madm2_AOI\u001b[0m \u001b[1;33m=\u001b[0m \u001b[0mGAUL_adm1\u001b[0m\u001b[1;33m;\u001b[0m\u001b[1;33m\u001b[0m\u001b[1;33m\u001b[0m\u001b[0m\n\u001b[1;32m---> 23\u001b[1;33m \u001b[0mMap\u001b[0m\u001b[1;33m.\u001b[0m\u001b[0maddLayer\u001b[0m\u001b[1;33m(\u001b[0m\u001b[0madm2_AOI\u001b[0m\u001b[1;33m,\u001b[0m \u001b[1;33m{\u001b[0m\u001b[0mcolor\u001b[0m\u001b[1;33m:\u001b[0m \u001b[1;34m'purple'\u001b[0m\u001b[1;33m}\u001b[0m\u001b[1;33m,\u001b[0m \u001b[1;34m'Kenya Admin2 Boundaries'\u001b[0m\u001b[1;33m)\u001b[0m\u001b[1;33m;\u001b[0m\u001b[1;33m\u001b[0m\u001b[1;33m\u001b[0m\u001b[0m\n\u001b[0m\u001b[0;32m     24\u001b[0m \u001b[1;33m\u001b[0m\u001b[0m\n\u001b[0;32m     25\u001b[0m \u001b[1;31m#//////////////////////////////////////////////////////////////////////////////////////////////////////\u001b[0m\u001b[1;33m\u001b[0m\u001b[1;33m\u001b[0m\u001b[0m\n",
      "\u001b[1;31mNameError\u001b[0m: name 'Map' is not defined"
     ]
    }
   ],
   "source": [
    "#///////////////////////////////////////////////////////////////////////////////////////////////////////\n",
    "\n",
    "#//IFPRI- Calculate Productive Agriculture  \n",
    "#//December 2022\n",
    "#// \n",
    "#//Description: Scripts Aggregates Cleared Forest and Cropland datasets, masking  permanent water,\n",
    "          #//   and imprevious surfaces to identify arable land in Kenya at 30m resolution\n",
    "          \n",
    "          \n",
    "\n",
    "\n",
    "#//////////////////////////////////////////////////////////////////////////////////////////////////////\n",
    "#//Variables \n",
    "\n",
    "adm0_name = \"Kenya\"\n",
    "deforestCompYear = 15; #//Last two digits of year only\n",
    "waterOccuring = 10 #//Set water occuring less than this value (in %) of the time, it is the frequency with which water was present.\n",
    "\n",
    "#//Get AOI of Interest\n",
    "#////Import GADM data for Kenya (https://gadm.org/data.html)\n",
    "adm0_AOI = GAUL_adm0\n",
    "adm2_AOI = GAUL_adm1\n",
    "\n",
    "import folium\n",
    "\n",
    "Map.addLayer(adm2_AOI, {color: 'purple'}, 'Kenya Admin2 Boundaries')\n",
    "\n",
    "#//////////////////////////////////////////////////////////////////////////////////////////////////////"
   ]
  },
  {
   "cell_type": "code",
   "execution_count": null,
   "id": "eb523112",
   "metadata": {},
   "outputs": [],
   "source": []
  }
 ],
 "metadata": {
  "kernelspec": {
   "display_name": "Python 3 (ipykernel)",
   "language": "python",
   "name": "python3"
  },
  "language_info": {
   "codemirror_mode": {
    "name": "ipython",
    "version": 3
   },
   "file_extension": ".py",
   "mimetype": "text/x-python",
   "name": "python",
   "nbconvert_exporter": "python",
   "pygments_lexer": "ipython3",
   "version": "3.9.13"
  }
 },
 "nbformat": 4,
 "nbformat_minor": 5
}
