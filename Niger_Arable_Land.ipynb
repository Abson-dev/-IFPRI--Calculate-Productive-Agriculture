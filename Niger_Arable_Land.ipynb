{
 "cells": [
  {
   "cell_type": "markdown",
   "id": "f754004d",
   "metadata": {},
   "source": [
    "# **Spatial typology to identify food and nutrition security bottlenecks in Niger**\n",
    "\n",
    "**IFPRI- Calculate Productive Agriculture :Arable land computation**\n",
    "\n",
    "\n",
    "```bash\n",
    "Author : Aboubacar HEMA\n",
    "Supervision : Wim MARIVOET\n",
    "Contact : a.hema@cgiar.org / w.marivoet@cgiar.org\n",
    "Role : Research Analyst at IFPRI\n",
    "Year : December 2022\n",
    "```"
   ]
  },
  {
   "cell_type": "markdown",
   "id": "443f866d",
   "metadata": {},
   "source": [
    "-----------------\n",
    "## **Objective**\n",
    "-----------------\n",
    "\n",
    "- To identify arable land in country of interest at 30m resolution, comprising the following steps: \n",
    "1. Aggregate Cleared Forest and Cropland datasets \n",
    "2. Masking slope > 15%\n",
    "3. permanent water\n",
    "4. imprevious surfaces \n"
   ]
  },
  {
   "cell_type": "markdown",
   "id": "072b0328",
   "metadata": {},
   "source": [
    "-----------------\n",
    "## **Output**\n",
    "-----------------\n",
    "\n",
    "\n",
    "\n",
    "-----------------\n",
    "## **Dataset**\n",
    "-----------------\n",
    "\n",
    "\n",
    " Directions for Downloading GFSAD Data:\n",
    "1. Go to https://search.earthdata.nasa.gov/search. If you're a new user, create a login using contact information.\n",
    "2. Search \"GFSAD\" in the top left search bar \"Search for collections and topics\"\n",
    "3. Select \"Global Food Security-support Analysis Data (GFSAD) Cropland Extent 2015 Africa 30 m V001\"\n",
    "4. In the map area to the right, image footprints will appear as on overlay over Africa. Navigate to country of interest, select image footprint that you would like to download. In the left side table showing search results, the image you have selected will be outlined in green (NOTE: This may require scrolling through the image list).\n",
    "5. In the green outlined box, click \"Download Granule\" to download the scene to the desired output location on your computer.\n",
    "6. Repeat these steps until you have downloaded all images required to cover your entire area of interest.\n",
    "7. Upload download GFSAD geoTIFFs to GEE from Assets and import them into calcArableLand script.![image](https://userimages.githubusercontent.com/54441886/206823358-5993aad6-ae09-40d6-a33f-b14dd4f04bc7.png)"
   ]
  },
  {
   "cell_type": "markdown",
   "id": "8fcfcf94",
   "metadata": {},
   "source": [
    "-----------------\n",
    "## **Technical requirements**\n",
    "-----------------\n",
    "\n",
    "\n",
    "```bash\n",
    "conda create -n gee python\n",
    "conda activate gee\n",
    "conda install -c conda-forge mamba\n",
    "mamba install -c conda-forge pygis\n",
    "pip install geemap\n",
    "pip install ee\n",
    "```\n",
    "\n",
    "\n",
    "-----------------\n",
    "## **Import the necessary libraries**\n",
    "-----------------\n"
   ]
  },
  {
   "cell_type": "code",
   "execution_count": 1,
   "id": "e3420ef1",
   "metadata": {},
   "outputs": [],
   "source": [
    "import ee\n",
    "import geemap\n",
    "\n",
    "# Basic libraries of python for numeric and dataframe computations\n",
    "import numpy as np                              \n",
    "import pandas as pd\n",
    "\n",
    "# Basic library for data visualization\n",
    "import matplotlib.pyplot as plt \n",
    "\n",
    "# Slightly advanced library for data visualization            \n",
    "import seaborn as sns "
   ]
  },
  {
   "cell_type": "code",
   "execution_count": 2,
   "id": "c54b2374",
   "metadata": {},
   "outputs": [
    {
     "data": {
      "text/html": [
       "\n",
       "            <style>\n",
       "                .geemap-dark {\n",
       "                    --jp-widgets-color: white;\n",
       "                    --jp-widgets-label-color: white;\n",
       "                    --jp-ui-font-color1: white;\n",
       "                    --jp-layout-color2: #454545;\n",
       "                    background-color: #383838;\n",
       "                }\n",
       "\n",
       "                .geemap-dark .jupyter-button {\n",
       "                    --jp-layout-color3: #383838;\n",
       "                }\n",
       "\n",
       "                .geemap-colab {\n",
       "                    background-color: var(--colab-primary-surface-color, white);\n",
       "                }\n",
       "\n",
       "                .geemap-colab .jupyter-button {\n",
       "                    --jp-layout-color3: var(--colab-primary-surface-color, white);\n",
       "                }\n",
       "            </style>\n",
       "            "
      ],
      "text/plain": [
       "<IPython.core.display.HTML object>"
      ]
     },
     "metadata": {},
     "output_type": "display_data"
    }
   ],
   "source": [
    "# Authenticate and Initialize Earth Engine\n",
    "geemap.ee_initialize()"
   ]
  },
  {
   "cell_type": "markdown",
   "id": "16e1f050",
   "metadata": {},
   "source": [
    "-----------------\n",
    "## **Load data**\n",
    "-----------------"
   ]
  },
  {
   "cell_type": "code",
   "execution_count": 4,
   "id": "568b891f",
   "metadata": {},
   "outputs": [
    {
     "data": {
      "text/html": [
       "\n",
       "            <style>\n",
       "                .geemap-dark {\n",
       "                    --jp-widgets-color: white;\n",
       "                    --jp-widgets-label-color: white;\n",
       "                    --jp-ui-font-color1: white;\n",
       "                    --jp-layout-color2: #454545;\n",
       "                    background-color: #383838;\n",
       "                }\n",
       "\n",
       "                .geemap-dark .jupyter-button {\n",
       "                    --jp-layout-color3: #383838;\n",
       "                }\n",
       "\n",
       "                .geemap-colab {\n",
       "                    background-color: var(--colab-primary-surface-color, white);\n",
       "                }\n",
       "\n",
       "                .geemap-colab .jupyter-button {\n",
       "                    --jp-layout-color3: var(--colab-primary-surface-color, white);\n",
       "                }\n",
       "            </style>\n",
       "            "
      ],
      "text/plain": [
       "<IPython.core.display.HTML object>"
      ]
     },
     "metadata": {},
     "output_type": "display_data"
    }
   ],
   "source": [
    "Hansen_GFC = ee.Image(\"UMD/hansen/global_forest_change_2020_v1_8\")\n",
    "SRTM = ee.Image(\"USGS/SRTMGL1_003\")\n",
    "surfaceWater = ee.Image(\"JRC/GSW1_3/GlobalSurfaceWater\")\n",
    "imperviousSurface = ee.Image(\"Tsinghua/FROM-GLC/GAIA/v10\")\n",
    "geometry =ee.Geometry.Polygon(\n",
    "        [[[-2.079997168246366, 24.514922224888306],\n",
    "          [-2.079997168246366, 11.423798195385235],\n",
    "          [19.101643456753635, 11.423798195385235],\n",
    "          [19.101643456753635, 24.514922224888306]]])\n",
    "GFSAD30AFCE_2015_N_1 = ee.Image(\"projects/ee-aboubacarhema94/assets/Niger/GFSAD30AFCE_2015_N_1\")\n",
    "GFSAD30AFCE_2015_N_2 = ee.Image(\"projects/ee-aboubacarhema94/assets/Niger/GFSAD30AFCE_2015_N_2\")\n",
    "GFSAD30AFCE_2015_N_3 = ee.Image(\"projects/ee-aboubacarhema94/assets/Niger/GFSAD30AFCE_2015_N_3\")\n",
    "GFSAD30AFCE_2015_N_4 = ee.Image(\"projects/ee-aboubacarhema94/assets/Niger/GFSAD30AFCE_2015_N_4\")\n",
    "ImperviousSurfaceGMIS = ee.Image(\"projects/ee-aboubacarhema94/assets/Niger/NER_gmis_impervious_surface_percentage_geographic_30m\")\n",
    "ProtectedAreaPoints = ee.FeatureCollection(\"projects/ee-aboubacarhema94/assets/Niger/ProtectedAreaPoints\")\n",
    "ProtectedAreaPolygons = ee.FeatureCollection(\"projects/ee-aboubacarhema94/assets/Niger/ProtectedAreaPolygons\")\n",
    "GAUL_adm0 = ee.FeatureCollection(\"projects/ee-aboubacarhema94/assets/Niger/gadm41_NER_0\")\n",
    "GAUL_adm1 = ee.FeatureCollection(\"projects/ee-aboubacarhema94/assets/Niger/gadm41_NER_1\")\n",
    "GAUL_adm2 = ee.FeatureCollection(\"projects/ee-aboubacarhema94/assets/Niger/gadm41_NER_2\")\n",
    "GAUL_adm0F = ee.FeatureCollection(\"FAO/GAUL/2015/level0\")\n",
    "GAUL_adm2F = ee.FeatureCollection(\"FAO/GAUL/2015/level2\")\n",
    "GAUL_adm3 = ee.FeatureCollection(\"projects/ee-aboubacarhema94/assets/Niger/gadm41_NER_3\")\n",
    "NER_adm2 = ee.FeatureCollection(\"projects/ee-aboubacarhema94/assets/Niger/NER_64\")"
   ]
  },
  {
   "cell_type": "code",
   "execution_count": 8,
   "id": "4c99affc",
   "metadata": {},
   "outputs": [
    {
     "data": {
      "text/html": [
       "\n",
       "            <style>\n",
       "                .geemap-dark {\n",
       "                    --jp-widgets-color: white;\n",
       "                    --jp-widgets-label-color: white;\n",
       "                    --jp-ui-font-color1: white;\n",
       "                    --jp-layout-color2: #454545;\n",
       "                    background-color: #383838;\n",
       "                }\n",
       "\n",
       "                .geemap-dark .jupyter-button {\n",
       "                    --jp-layout-color3: #383838;\n",
       "                }\n",
       "\n",
       "                .geemap-colab {\n",
       "                    background-color: var(--colab-primary-surface-color, white);\n",
       "                }\n",
       "\n",
       "                .geemap-colab .jupyter-button {\n",
       "                    --jp-layout-color3: var(--colab-primary-surface-color, white);\n",
       "                }\n",
       "            </style>\n",
       "            "
      ],
      "text/plain": [
       "<IPython.core.display.HTML object>"
      ]
     },
     "metadata": {},
     "output_type": "display_data"
    },
    {
     "data": {
      "application/vnd.jupyter.widget-view+json": {
       "model_id": "78ae8de702864474a275ad5d7003ec50",
       "version_major": 2,
       "version_minor": 0
      },
      "text/plain": [
       "Map(center=[0, 0], controls=(WidgetControl(options=['position', 'transparent_bg'], widget=SearchDataGUI(childr…"
      ]
     },
     "execution_count": 8,
     "metadata": {},
     "output_type": "execute_result"
    }
   ],
   "source": [
    "adm0_AOI = GAUL_adm0\n",
    "#Initialize a Map\n",
    "Map = geemap.Map()\n",
    "Map.centerObject(adm0_AOI)\n",
    "Map"
   ]
  },
  {
   "cell_type": "code",
   "execution_count": 6,
   "id": "7a5fbb5b",
   "metadata": {},
   "outputs": [
    {
     "data": {
      "text/html": [
       "\n",
       "            <style>\n",
       "                .geemap-dark {\n",
       "                    --jp-widgets-color: white;\n",
       "                    --jp-widgets-label-color: white;\n",
       "                    --jp-ui-font-color1: white;\n",
       "                    --jp-layout-color2: #454545;\n",
       "                    background-color: #383838;\n",
       "                }\n",
       "\n",
       "                .geemap-dark .jupyter-button {\n",
       "                    --jp-layout-color3: #383838;\n",
       "                }\n",
       "\n",
       "                .geemap-colab {\n",
       "                    background-color: var(--colab-primary-surface-color, white);\n",
       "                }\n",
       "\n",
       "                .geemap-colab .jupyter-button {\n",
       "                    --jp-layout-color3: var(--colab-primary-surface-color, white);\n",
       "                }\n",
       "            </style>\n",
       "            "
      ],
      "text/plain": [
       "<IPython.core.display.HTML object>"
      ]
     },
     "metadata": {},
     "output_type": "display_data"
    },
    {
     "data": {
      "application/vnd.jupyter.widget-view+json": {
       "model_id": "2bebf44f2a48430f854861cce93a8982",
       "version_major": 2,
       "version_minor": 0
      },
      "text/plain": [
       "Map(bottom=7677.0, center=[17.6150789448675, 8.08094346368385], controls=(WidgetControl(options=['position', '…"
      ]
     },
     "execution_count": 6,
     "metadata": {},
     "output_type": "execute_result"
    }
   ],
   "source": [
    "# Set visualization/style parameters\n",
    "adm2_style = {\n",
    "    \"fillColor\": \"00000000\", # transparent color code\n",
    "    \"color\": \"black\", # color of the stroke\n",
    "    \"width\": 0.5 # stroke width\n",
    "}\n",
    "\n",
    "# Display the layer\n",
    "Map.addLayer(NER_adm2.style(**adm2_style), {}, \" Niger Administrative two Boundaries\")\n",
    "Map"
   ]
  },
  {
   "cell_type": "markdown",
   "id": "9a054845",
   "metadata": {},
   "source": [
    "\n",
    "-----------------\n",
    "## **Global Food Security-support Analysis Data (GFSAD) Cropland Extent 2015 Africa 30 m V001**\n",
    "-----------------"
   ]
  },
  {
   "cell_type": "code",
   "execution_count": 14,
   "id": "b39e41d1",
   "metadata": {},
   "outputs": [
    {
     "data": {
      "text/html": [
       "\n",
       "            <style>\n",
       "                .geemap-dark {\n",
       "                    --jp-widgets-color: white;\n",
       "                    --jp-widgets-label-color: white;\n",
       "                    --jp-ui-font-color1: white;\n",
       "                    --jp-layout-color2: #454545;\n",
       "                    background-color: #383838;\n",
       "                }\n",
       "\n",
       "                .geemap-dark .jupyter-button {\n",
       "                    --jp-layout-color3: #383838;\n",
       "                }\n",
       "\n",
       "                .geemap-colab {\n",
       "                    background-color: var(--colab-primary-surface-color, white);\n",
       "                }\n",
       "\n",
       "                .geemap-colab .jupyter-button {\n",
       "                    --jp-layout-color3: var(--colab-primary-surface-color, white);\n",
       "                }\n",
       "            </style>\n",
       "            "
      ],
      "text/plain": [
       "<IPython.core.display.HTML object>"
      ]
     },
     "metadata": {},
     "output_type": "display_data"
    }
   ],
   "source": [
    "GFSAD_1 = GFSAD30AFCE_2015_N_1\n",
    "GFSAD_2 = GFSAD30AFCE_2015_N_2\n",
    "GFSAD_3 = GFSAD30AFCE_2015_N_3\n",
    "GFSAD_4 = GFSAD30AFCE_2015_N_4\n",
    "#CLip Images to Niger Extent --> Mask\n",
    "clipGFSAD_1 = GFSAD_1.clip(adm0_AOI)\n",
    "#resolution = clipGFSAD_1.projection().nominalScale()\n",
    "#print(resolution,'clipGFSAD_1 Resolution')\n",
    "clipGFSAD_2 = GFSAD_2.clip(adm0_AOI)\n",
    "clipGFSAD_3 = GFSAD_3.clip(adm0_AOI)\n",
    "clipGFSAD_4 = GFSAD_4.clip(adm0_AOI)\n",
    "#Create Image Collection so it can be mosaiced together --> use quality mosaic to get highest\n",
    "GFSAD = ee.ImageCollection([clipGFSAD_1, clipGFSAD_2, clipGFSAD_3, clipGFSAD_4]).mosaic()\n",
    "#Mask to select Cropland (band b1 = 2)\n",
    "aoiCropland = GFSAD.eq(2).selfMask().rename(\"Cropland\")"
   ]
  },
  {
   "cell_type": "code",
   "execution_count": 12,
   "id": "c6557cee",
   "metadata": {},
   "outputs": [
    {
     "data": {
      "text/html": [
       "\n",
       "            <style>\n",
       "                .geemap-dark {\n",
       "                    --jp-widgets-color: white;\n",
       "                    --jp-widgets-label-color: white;\n",
       "                    --jp-ui-font-color1: white;\n",
       "                    --jp-layout-color2: #454545;\n",
       "                    background-color: #383838;\n",
       "                }\n",
       "\n",
       "                .geemap-dark .jupyter-button {\n",
       "                    --jp-layout-color3: #383838;\n",
       "                }\n",
       "\n",
       "                .geemap-colab {\n",
       "                    background-color: var(--colab-primary-surface-color, white);\n",
       "                }\n",
       "\n",
       "                .geemap-colab .jupyter-button {\n",
       "                    --jp-layout-color3: var(--colab-primary-surface-color, white);\n",
       "                }\n",
       "            </style>\n",
       "            "
      ],
      "text/plain": [
       "<IPython.core.display.HTML object>"
      ]
     },
     "metadata": {},
     "output_type": "display_data"
    }
   ],
   "source": [
    "bin_viz = {\n",
    "  'min': 0,\n",
    "  'max': 1,\n",
    "  'palette': ['red', 'green']\n",
    "}"
   ]
  },
  {
   "cell_type": "code",
   "execution_count": 15,
   "id": "c456232b",
   "metadata": {},
   "outputs": [
    {
     "data": {
      "text/html": [
       "\n",
       "            <style>\n",
       "                .geemap-dark {\n",
       "                    --jp-widgets-color: white;\n",
       "                    --jp-widgets-label-color: white;\n",
       "                    --jp-ui-font-color1: white;\n",
       "                    --jp-layout-color2: #454545;\n",
       "                    background-color: #383838;\n",
       "                }\n",
       "\n",
       "                .geemap-dark .jupyter-button {\n",
       "                    --jp-layout-color3: #383838;\n",
       "                }\n",
       "\n",
       "                .geemap-colab {\n",
       "                    background-color: var(--colab-primary-surface-color, white);\n",
       "                }\n",
       "\n",
       "                .geemap-colab .jupyter-button {\n",
       "                    --jp-layout-color3: var(--colab-primary-surface-color, white);\n",
       "                }\n",
       "            </style>\n",
       "            "
      ],
      "text/plain": [
       "<IPython.core.display.HTML object>"
      ]
     },
     "metadata": {},
     "output_type": "display_data"
    },
    {
     "data": {
      "application/vnd.jupyter.widget-view+json": {
       "model_id": "78ae8de702864474a275ad5d7003ec50",
       "version_major": 2,
       "version_minor": 0
      },
      "text/plain": [
       "Map(bottom=7678.0, center=[17.611001107213966, 8.08094566045597], controls=(WidgetControl(options=['position',…"
      ]
     },
     "execution_count": 15,
     "metadata": {},
     "output_type": "execute_result"
    }
   ],
   "source": [
    "Map.addLayer(aoiCropland, bin_viz, 'Cropland in GFSAD', 1)\n",
    "Map"
   ]
  },
  {
   "cell_type": "code",
   "execution_count": 10,
   "id": "735512a3",
   "metadata": {},
   "outputs": [
    {
     "data": {
      "text/html": [
       "\n",
       "            <style>\n",
       "                .geemap-dark {\n",
       "                    --jp-widgets-color: white;\n",
       "                    --jp-widgets-label-color: white;\n",
       "                    --jp-ui-font-color1: white;\n",
       "                    --jp-layout-color2: #454545;\n",
       "                    background-color: #383838;\n",
       "                }\n",
       "\n",
       "                .geemap-dark .jupyter-button {\n",
       "                    --jp-layout-color3: #383838;\n",
       "                }\n",
       "\n",
       "                .geemap-colab {\n",
       "                    background-color: var(--colab-primary-surface-color, white);\n",
       "                }\n",
       "\n",
       "                .geemap-colab .jupyter-button {\n",
       "                    --jp-layout-color3: var(--colab-primary-surface-color, white);\n",
       "                }\n",
       "            </style>\n",
       "            "
      ],
      "text/plain": [
       "<IPython.core.display.HTML object>"
      ]
     },
     "metadata": {},
     "output_type": "display_data"
    }
   ],
   "source": [
    "snippet = \"\"\"\n",
    "//Mask to select Cropland (band b1 = 2)\n",
    "var aoiCropland = GFSAD.eq(2).selfMask().rename(\"Cropland\");\n",
    "\"\"\"\n",
    "\n",
    "geemap.js_snippet_to_py(snippet, add_new_cell=True, import_ee=False)\n"
   ]
  },
  {
   "cell_type": "code",
   "execution_count": null,
   "id": "9957d550",
   "metadata": {},
   "outputs": [],
   "source": [
    "#Mask to select Cropland (band b1 = 2)\n",
    "aoiCropland = GFSAD.eq(2).selfMask().rename(\"Cropland\")\n",
    "m"
   ]
  },
  {
   "cell_type": "code",
   "execution_count": null,
   "id": "e7844816",
   "metadata": {},
   "outputs": [],
   "source": [
    "\n",
    "m"
   ]
  },
  {
   "cell_type": "code",
   "execution_count": null,
   "id": "c9c97394",
   "metadata": {},
   "outputs": [],
   "source": []
  },
  {
   "cell_type": "code",
   "execution_count": null,
   "id": "01457ce3",
   "metadata": {},
   "outputs": [],
   "source": []
  }
 ],
 "metadata": {
  "kernelspec": {
   "display_name": "Python 3 (ipykernel)",
   "language": "python",
   "name": "python3"
  },
  "language_info": {
   "codemirror_mode": {
    "name": "ipython",
    "version": 3
   },
   "file_extension": ".py",
   "mimetype": "text/x-python",
   "name": "python",
   "nbconvert_exporter": "python",
   "pygments_lexer": "ipython3",
   "version": "3.11.5"
  }
 },
 "nbformat": 4,
 "nbformat_minor": 5
}
