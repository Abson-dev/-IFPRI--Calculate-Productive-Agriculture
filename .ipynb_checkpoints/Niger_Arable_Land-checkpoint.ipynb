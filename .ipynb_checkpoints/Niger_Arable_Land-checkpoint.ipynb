{
 "cells": [
  {
   "cell_type": "markdown",
   "id": "aeac759c",
   "metadata": {},
   "source": [
    "# **Spatial typology to identify food and nutrition security bottlenecks in Niger**\n",
    "\n",
    "**IFPRI- Calculate Productive Agriculture :Arable land computation**\n",
    "\n",
    "\n",
    "```bash\n",
    "Author : Aboubacar HEMA\n",
    "Supervision : Wim MARIVOET\n",
    "Contact : a.hema@cgiar.org / w.marivoet@cgiar.org\n",
    "Role : Research Analyst at IFPRI\n",
    "Year : December 2022\n",
    "```"
   ]
  },
  {
   "cell_type": "markdown",
   "id": "a5fc53b3",
   "metadata": {},
   "source": [
    "-----------------\n",
    "## **Objective**\n",
    "-----------------\n",
    "\n",
    "- To identify arable land in country of interest at 30m resolution, comprising the following steps: \n",
    "1. Aggregate Cleared Forest and Cropland datasets \n",
    "2. Masking slope > 15%\n",
    "3. permanent water\n",
    "4. imprevious surfaces \n"
   ]
  },
  {
   "cell_type": "markdown",
   "id": "86a4839f",
   "metadata": {},
   "source": [
    "-----------------\n",
    "## **Output**\n",
    "-----------------\n",
    "\n",
    "\n",
    "\n",
    "-----------------\n",
    "## **Dataset**\n",
    "-----------------\n",
    "\n",
    "\n",
    " Directions for Downloading GFSAD Data:\n",
    "1. Go to https://search.earthdata.nasa.gov/search. If you're a new user, create a login using contact information.\n",
    "2. Search \"GFSAD\" in the top left search bar \"Search for collections and topics\"\n",
    "3. Select \"Global Food Security-support Analysis Data (GFSAD) Cropland Extent 2015 Africa 30 m V001\"\n",
    "4. In the map area to the right, image footprints will appear as on overlay over Africa. Navigate to country of interest, select image footprint that you would like to download. In the left side table showing search results, the image you have selected will be outlined in green (NOTE: This may require scrolling through the image list).\n",
    "5. In the green outlined box, click \"Download Granule\" to download the scene to the desired output location on your computer.\n",
    "6. Repeat these steps until you have downloaded all images required to cover your entire area of interest.\n",
    "7. Upload download GFSAD geoTIFFs to GEE from Assets and import them into calcArableLand script.![image](https://userimages.githubusercontent.com/54441886/206823358-5993aad6-ae09-40d6-a33f-b14dd4f04bc7.png)"
   ]
  },
  {
   "cell_type": "markdown",
   "id": "9fe73a2a",
   "metadata": {},
   "source": [
    "-----------------\n",
    "## **Technical requirements**\n",
    "-----------------\n",
    "\n",
    "\n",
    "```bash\n",
    "conda create -n gee python\n",
    "conda activate gee\n",
    "conda install -c conda-forge mamba\n",
    "mamba install -c conda-forge pygis\n",
    "pip install geemap\n",
    "pip install ee\n",
    "```\n",
    "\n",
    "\n",
    "-----------------\n",
    "## **Import the necessary libraries**\n",
    "-----------------\n"
   ]
  },
  {
   "cell_type": "code",
   "execution_count": 1,
   "id": "06f8cf6d",
   "metadata": {},
   "outputs": [],
   "source": [
    "import ee\n",
    "import geemap\n",
    "\n",
    "# Basic libraries of python for numeric and dataframe computations\n",
    "import numpy as np                              \n",
    "import pandas as pd\n",
    "\n",
    "# Basic library for data visualization\n",
    "import matplotlib.pyplot as plt \n",
    "\n",
    "# Slightly advanced library for data visualization            \n",
    "import seaborn as sns "
   ]
  },
  {
   "cell_type": "code",
   "execution_count": 2,
   "id": "5f8d093d",
   "metadata": {},
   "outputs": [
    {
     "data": {
      "text/html": [
       "\n",
       "            <style>\n",
       "                .geemap-dark {\n",
       "                    --jp-widgets-color: white;\n",
       "                    --jp-widgets-label-color: white;\n",
       "                    --jp-ui-font-color1: white;\n",
       "                    --jp-layout-color2: #454545;\n",
       "                    background-color: #383838;\n",
       "                }\n",
       "\n",
       "                .geemap-dark .jupyter-button {\n",
       "                    --jp-layout-color3: #383838;\n",
       "                }\n",
       "\n",
       "                .geemap-colab {\n",
       "                    background-color: var(--colab-primary-surface-color, white);\n",
       "                }\n",
       "\n",
       "                .geemap-colab .jupyter-button {\n",
       "                    --jp-layout-color3: var(--colab-primary-surface-color, white);\n",
       "                }\n",
       "            </style>\n",
       "            "
      ],
      "text/plain": [
       "<IPython.core.display.HTML object>"
      ]
     },
     "metadata": {},
     "output_type": "display_data"
    }
   ],
   "source": [
    "# Authenticate and Initialize Earth Engine\n",
    "geemap.ee_initialize()"
   ]
  },
  {
   "cell_type": "markdown",
   "id": "ab94f96d",
   "metadata": {},
   "source": [
    "-----------------\n",
    "## **Load data**\n",
    "-----------------"
   ]
  },
  {
   "cell_type": "code",
   "execution_count": 4,
   "id": "5f2a7ffd",
   "metadata": {},
   "outputs": [
    {
     "data": {
      "text/html": [
       "\n",
       "            <style>\n",
       "                .geemap-dark {\n",
       "                    --jp-widgets-color: white;\n",
       "                    --jp-widgets-label-color: white;\n",
       "                    --jp-ui-font-color1: white;\n",
       "                    --jp-layout-color2: #454545;\n",
       "                    background-color: #383838;\n",
       "                }\n",
       "\n",
       "                .geemap-dark .jupyter-button {\n",
       "                    --jp-layout-color3: #383838;\n",
       "                }\n",
       "\n",
       "                .geemap-colab {\n",
       "                    background-color: var(--colab-primary-surface-color, white);\n",
       "                }\n",
       "\n",
       "                .geemap-colab .jupyter-button {\n",
       "                    --jp-layout-color3: var(--colab-primary-surface-color, white);\n",
       "                }\n",
       "            </style>\n",
       "            "
      ],
      "text/plain": [
       "<IPython.core.display.HTML object>"
      ]
     },
     "metadata": {},
     "output_type": "display_data"
    }
   ],
   "source": [
    "Hansen_GFC = ee.Image(\"UMD/hansen/global_forest_change_2020_v1_8\")\n",
    "SRTM = ee.Image(\"USGS/SRTMGL1_003\")\n",
    "surfaceWater = ee.Image(\"JRC/GSW1_3/GlobalSurfaceWater\")\n",
    "imperviousSurface = ee.Image(\"Tsinghua/FROM-GLC/GAIA/v10\")\n",
    "geometry =ee.Geometry.Polygon(\n",
    "        [[[-2.079997168246366, 24.514922224888306],\n",
    "          [-2.079997168246366, 11.423798195385235],\n",
    "          [19.101643456753635, 11.423798195385235],\n",
    "          [19.101643456753635, 24.514922224888306]]])\n",
    "GFSAD30AFCE_2015_N_1 = ee.Image(\"projects/ee-aboubacarhema94/assets/Niger/GFSAD30AFCE_2015_N_1\")\n",
    "GFSAD30AFCE_2015_N_2 = ee.Image(\"projects/ee-aboubacarhema94/assets/Niger/GFSAD30AFCE_2015_N_2\")\n",
    "GFSAD30AFCE_2015_N_3 = ee.Image(\"projects/ee-aboubacarhema94/assets/Niger/GFSAD30AFCE_2015_N_3\")\n",
    "GFSAD30AFCE_2015_N_4 = ee.Image(\"projects/ee-aboubacarhema94/assets/Niger/GFSAD30AFCE_2015_N_4\")\n",
    "ImperviousSurfaceGMIS = ee.Image(\"projects/ee-aboubacarhema94/assets/Niger/NER_gmis_impervious_surface_percentage_geographic_30m\")\n",
    "ProtectedAreaPoints = ee.FeatureCollection(\"projects/ee-aboubacarhema94/assets/Niger/ProtectedAreaPoints\")\n",
    "ProtectedAreaPolygons = ee.FeatureCollection(\"projects/ee-aboubacarhema94/assets/Niger/ProtectedAreaPolygons\")\n",
    "GAUL_adm0 = ee.FeatureCollection(\"projects/ee-aboubacarhema94/assets/Niger/gadm41_NER_0\")\n",
    "GAUL_adm1 = ee.FeatureCollection(\"projects/ee-aboubacarhema94/assets/Niger/gadm41_NER_1\")\n",
    "GAUL_adm2 = ee.FeatureCollection(\"projects/ee-aboubacarhema94/assets/Niger/gadm41_NER_2\")\n",
    "GAUL_adm0F = ee.FeatureCollection(\"FAO/GAUL/2015/level0\")\n",
    "GAUL_adm2F = ee.FeatureCollection(\"FAO/GAUL/2015/level2\")\n",
    "GAUL_adm3 = ee.FeatureCollection(\"projects/ee-aboubacarhema94/assets/Niger/gadm41_NER_3\")\n",
    "NER_adm2 = ee.FeatureCollection(\"projects/ee-aboubacarhema94/assets/Niger/NER_64\")"
   ]
  },
  {
   "cell_type": "code",
   "execution_count": 26,
   "id": "312b90bb",
   "metadata": {},
   "outputs": [
    {
     "data": {
      "text/html": [
       "\n",
       "            <style>\n",
       "                .geemap-dark {\n",
       "                    --jp-widgets-color: white;\n",
       "                    --jp-widgets-label-color: white;\n",
       "                    --jp-ui-font-color1: white;\n",
       "                    --jp-layout-color2: #454545;\n",
       "                    background-color: #383838;\n",
       "                }\n",
       "\n",
       "                .geemap-dark .jupyter-button {\n",
       "                    --jp-layout-color3: #383838;\n",
       "                }\n",
       "\n",
       "                .geemap-colab {\n",
       "                    background-color: var(--colab-primary-surface-color, white);\n",
       "                }\n",
       "\n",
       "                .geemap-colab .jupyter-button {\n",
       "                    --jp-layout-color3: var(--colab-primary-surface-color, white);\n",
       "                }\n",
       "            </style>\n",
       "            "
      ],
      "text/plain": [
       "<IPython.core.display.HTML object>"
      ]
     },
     "metadata": {},
     "output_type": "display_data"
    }
   ],
   "source": [
    "deforestCompYear = 14 #Last two digits of year only\n",
    "occurrence_threshold = 10 #Set water occuring less than this value (in %) of the time, it is the frequency with which water was present.\n"
   ]
  },
  {
   "cell_type": "code",
   "execution_count": 8,
   "id": "217f7ea1",
   "metadata": {},
   "outputs": [
    {
     "data": {
      "text/html": [
       "\n",
       "            <style>\n",
       "                .geemap-dark {\n",
       "                    --jp-widgets-color: white;\n",
       "                    --jp-widgets-label-color: white;\n",
       "                    --jp-ui-font-color1: white;\n",
       "                    --jp-layout-color2: #454545;\n",
       "                    background-color: #383838;\n",
       "                }\n",
       "\n",
       "                .geemap-dark .jupyter-button {\n",
       "                    --jp-layout-color3: #383838;\n",
       "                }\n",
       "\n",
       "                .geemap-colab {\n",
       "                    background-color: var(--colab-primary-surface-color, white);\n",
       "                }\n",
       "\n",
       "                .geemap-colab .jupyter-button {\n",
       "                    --jp-layout-color3: var(--colab-primary-surface-color, white);\n",
       "                }\n",
       "            </style>\n",
       "            "
      ],
      "text/plain": [
       "<IPython.core.display.HTML object>"
      ]
     },
     "metadata": {},
     "output_type": "display_data"
    },
    {
     "data": {
      "application/vnd.jupyter.widget-view+json": {
       "model_id": "78ae8de702864474a275ad5d7003ec50",
       "version_major": 2,
       "version_minor": 0
      },
      "text/plain": [
       "Map(center=[0, 0], controls=(WidgetControl(options=['position', 'transparent_bg'], widget=SearchDataGUI(childr…"
      ]
     },
     "execution_count": 8,
     "metadata": {},
     "output_type": "execute_result"
    }
   ],
   "source": [
    "adm0_AOI = GAUL_adm0\n",
    "#Initialize a Map\n",
    "Map = geemap.Map()\n",
    "Map.centerObject(adm0_AOI)\n",
    "Map"
   ]
  },
  {
   "cell_type": "code",
   "execution_count": 6,
   "id": "bf5f4694",
   "metadata": {},
   "outputs": [
    {
     "data": {
      "text/html": [
       "\n",
       "            <style>\n",
       "                .geemap-dark {\n",
       "                    --jp-widgets-color: white;\n",
       "                    --jp-widgets-label-color: white;\n",
       "                    --jp-ui-font-color1: white;\n",
       "                    --jp-layout-color2: #454545;\n",
       "                    background-color: #383838;\n",
       "                }\n",
       "\n",
       "                .geemap-dark .jupyter-button {\n",
       "                    --jp-layout-color3: #383838;\n",
       "                }\n",
       "\n",
       "                .geemap-colab {\n",
       "                    background-color: var(--colab-primary-surface-color, white);\n",
       "                }\n",
       "\n",
       "                .geemap-colab .jupyter-button {\n",
       "                    --jp-layout-color3: var(--colab-primary-surface-color, white);\n",
       "                }\n",
       "            </style>\n",
       "            "
      ],
      "text/plain": [
       "<IPython.core.display.HTML object>"
      ]
     },
     "metadata": {},
     "output_type": "display_data"
    },
    {
     "data": {
      "application/vnd.jupyter.widget-view+json": {
       "model_id": "2bebf44f2a48430f854861cce93a8982",
       "version_major": 2,
       "version_minor": 0
      },
      "text/plain": [
       "Map(bottom=7677.0, center=[17.6150789448675, 8.08094346368385], controls=(WidgetControl(options=['position', '…"
      ]
     },
     "execution_count": 6,
     "metadata": {},
     "output_type": "execute_result"
    }
   ],
   "source": [
    "# Set visualization/style parameters\n",
    "adm2_style = {\n",
    "    \"fillColor\": \"00000000\", # transparent color code\n",
    "    \"color\": \"black\", # color of the stroke\n",
    "    \"width\": 0.5 # stroke width\n",
    "}\n",
    "\n",
    "# Display the layer\n",
    "Map.addLayer(NER_adm2.style(**adm2_style), {}, \" Niger Administrative two Boundaries\")\n",
    "Map"
   ]
  },
  {
   "cell_type": "markdown",
   "id": "d43847ee",
   "metadata": {},
   "source": [
    "\n",
    "-----------------\n",
    "## **Global Food Security-support Analysis Data (GFSAD) Cropland Extent 2015 Africa 30 m V001**\n",
    "-----------------"
   ]
  },
  {
   "cell_type": "code",
   "execution_count": 14,
   "id": "559e271c",
   "metadata": {},
   "outputs": [
    {
     "data": {
      "text/html": [
       "\n",
       "            <style>\n",
       "                .geemap-dark {\n",
       "                    --jp-widgets-color: white;\n",
       "                    --jp-widgets-label-color: white;\n",
       "                    --jp-ui-font-color1: white;\n",
       "                    --jp-layout-color2: #454545;\n",
       "                    background-color: #383838;\n",
       "                }\n",
       "\n",
       "                .geemap-dark .jupyter-button {\n",
       "                    --jp-layout-color3: #383838;\n",
       "                }\n",
       "\n",
       "                .geemap-colab {\n",
       "                    background-color: var(--colab-primary-surface-color, white);\n",
       "                }\n",
       "\n",
       "                .geemap-colab .jupyter-button {\n",
       "                    --jp-layout-color3: var(--colab-primary-surface-color, white);\n",
       "                }\n",
       "            </style>\n",
       "            "
      ],
      "text/plain": [
       "<IPython.core.display.HTML object>"
      ]
     },
     "metadata": {},
     "output_type": "display_data"
    }
   ],
   "source": [
    "GFSAD_1 = GFSAD30AFCE_2015_N_1\n",
    "GFSAD_2 = GFSAD30AFCE_2015_N_2\n",
    "GFSAD_3 = GFSAD30AFCE_2015_N_3\n",
    "GFSAD_4 = GFSAD30AFCE_2015_N_4\n",
    "#CLip Images to Niger Extent --> Mask\n",
    "clipGFSAD_1 = GFSAD_1.clip(adm0_AOI)\n",
    "clipGFSAD_2 = GFSAD_2.clip(adm0_AOI)\n",
    "clipGFSAD_3 = GFSAD_3.clip(adm0_AOI)\n",
    "clipGFSAD_4 = GFSAD_4.clip(adm0_AOI)\n",
    "#Create Image Collection so it can be mosaiced together --> use quality mosaic to get highest\n",
    "GFSAD = ee.ImageCollection([clipGFSAD_1, clipGFSAD_2, clipGFSAD_3, clipGFSAD_4]).mosaic()\n",
    "#Mask to select Cropland (band b1 = 2)\n",
    "aoiCropland = GFSAD.eq(2).selfMask().rename(\"Cropland\")"
   ]
  },
  {
   "cell_type": "code",
   "execution_count": 12,
   "id": "914f0ce3",
   "metadata": {},
   "outputs": [
    {
     "data": {
      "text/html": [
       "\n",
       "            <style>\n",
       "                .geemap-dark {\n",
       "                    --jp-widgets-color: white;\n",
       "                    --jp-widgets-label-color: white;\n",
       "                    --jp-ui-font-color1: white;\n",
       "                    --jp-layout-color2: #454545;\n",
       "                    background-color: #383838;\n",
       "                }\n",
       "\n",
       "                .geemap-dark .jupyter-button {\n",
       "                    --jp-layout-color3: #383838;\n",
       "                }\n",
       "\n",
       "                .geemap-colab {\n",
       "                    background-color: var(--colab-primary-surface-color, white);\n",
       "                }\n",
       "\n",
       "                .geemap-colab .jupyter-button {\n",
       "                    --jp-layout-color3: var(--colab-primary-surface-color, white);\n",
       "                }\n",
       "            </style>\n",
       "            "
      ],
      "text/plain": [
       "<IPython.core.display.HTML object>"
      ]
     },
     "metadata": {},
     "output_type": "display_data"
    }
   ],
   "source": [
    "bin_viz = {\n",
    "  'min': 0,\n",
    "  'max': 1,\n",
    "  'palette': ['red', 'green']\n",
    "}"
   ]
  },
  {
   "cell_type": "code",
   "execution_count": 15,
   "id": "57eef636",
   "metadata": {},
   "outputs": [
    {
     "data": {
      "text/html": [
       "\n",
       "            <style>\n",
       "                .geemap-dark {\n",
       "                    --jp-widgets-color: white;\n",
       "                    --jp-widgets-label-color: white;\n",
       "                    --jp-ui-font-color1: white;\n",
       "                    --jp-layout-color2: #454545;\n",
       "                    background-color: #383838;\n",
       "                }\n",
       "\n",
       "                .geemap-dark .jupyter-button {\n",
       "                    --jp-layout-color3: #383838;\n",
       "                }\n",
       "\n",
       "                .geemap-colab {\n",
       "                    background-color: var(--colab-primary-surface-color, white);\n",
       "                }\n",
       "\n",
       "                .geemap-colab .jupyter-button {\n",
       "                    --jp-layout-color3: var(--colab-primary-surface-color, white);\n",
       "                }\n",
       "            </style>\n",
       "            "
      ],
      "text/plain": [
       "<IPython.core.display.HTML object>"
      ]
     },
     "metadata": {},
     "output_type": "display_data"
    },
    {
     "data": {
      "application/vnd.jupyter.widget-view+json": {
       "model_id": "78ae8de702864474a275ad5d7003ec50",
       "version_major": 2,
       "version_minor": 0
      },
      "text/plain": [
       "Map(bottom=7678.0, center=[17.611001107213966, 8.08094566045597], controls=(WidgetControl(options=['position',…"
      ]
     },
     "execution_count": 15,
     "metadata": {},
     "output_type": "execute_result"
    }
   ],
   "source": [
    "Map.addLayer(aoiCropland, bin_viz, 'Cropland in GFSAD', 1)\n",
    "Map"
   ]
  },
  {
   "cell_type": "code",
   "execution_count": 17,
   "id": "bfd826f9",
   "metadata": {},
   "outputs": [
    {
     "data": {
      "text/html": [
       "\n",
       "            <style>\n",
       "                .geemap-dark {\n",
       "                    --jp-widgets-color: white;\n",
       "                    --jp-widgets-label-color: white;\n",
       "                    --jp-ui-font-color1: white;\n",
       "                    --jp-layout-color2: #454545;\n",
       "                    background-color: #383838;\n",
       "                }\n",
       "\n",
       "                .geemap-dark .jupyter-button {\n",
       "                    --jp-layout-color3: #383838;\n",
       "                }\n",
       "\n",
       "                .geemap-colab {\n",
       "                    background-color: var(--colab-primary-surface-color, white);\n",
       "                }\n",
       "\n",
       "                .geemap-colab .jupyter-button {\n",
       "                    --jp-layout-color3: var(--colab-primary-surface-color, white);\n",
       "                }\n",
       "            </style>\n",
       "            "
      ],
      "text/plain": [
       "<IPython.core.display.HTML object>"
      ]
     },
     "metadata": {},
     "output_type": "display_data"
    }
   ],
   "source": [
    "arableFromCropland = aoiCropland.select('Cropland').unmask(0).clip(adm0_AOI)"
   ]
  },
  {
   "cell_type": "markdown",
   "id": "70c7c42f",
   "metadata": {},
   "source": [
    "\n",
    "-----------------\n",
    "## **Hansen Dataset for cleared forested between 2000 and 2015**\n",
    "-----------------"
   ]
  },
  {
   "cell_type": "code",
   "execution_count": 21,
   "id": "ce4289d0",
   "metadata": {},
   "outputs": [
    {
     "data": {
      "text/html": [
       "\n",
       "            <style>\n",
       "                .geemap-dark {\n",
       "                    --jp-widgets-color: white;\n",
       "                    --jp-widgets-label-color: white;\n",
       "                    --jp-ui-font-color1: white;\n",
       "                    --jp-layout-color2: #454545;\n",
       "                    background-color: #383838;\n",
       "                }\n",
       "\n",
       "                .geemap-dark .jupyter-button {\n",
       "                    --jp-layout-color3: #383838;\n",
       "                }\n",
       "\n",
       "                .geemap-colab {\n",
       "                    background-color: var(--colab-primary-surface-color, white);\n",
       "                }\n",
       "\n",
       "                .geemap-colab .jupyter-button {\n",
       "                    --jp-layout-color3: var(--colab-primary-surface-color, white);\n",
       "                }\n",
       "            </style>\n",
       "            "
      ],
      "text/plain": [
       "<IPython.core.display.HTML object>"
      ]
     },
     "metadata": {},
     "output_type": "display_data"
    }
   ],
   "source": [
    "Hansen = Hansen_GFC.clipToCollection(adm0_AOI)\n",
    "#Create Mask, selecting \"loss year layer\" less than or equal to 2015\n",
    "aoiClearForestMask = Hansen.select(\"lossyear\").lte(deforestCompYear)\n",
    "#Mask Collection for only forests cleared between 2000 and 2015\n",
    "aoiClearedForest = Hansen.mask(aoiClearForestMask)\n",
    "aoiClearedForestLoss = aoiClearedForest.select('lossyear').gt(0).selfMask().rename(\"loss\")\n",
    "aoiClearedForestLoss = aoiClearedForestLoss.select('loss').unmask(0).clip(adm0_AOI)"
   ]
  },
  {
   "cell_type": "code",
   "execution_count": 22,
   "id": "0621d013",
   "metadata": {},
   "outputs": [
    {
     "data": {
      "text/html": [
       "\n",
       "            <style>\n",
       "                .geemap-dark {\n",
       "                    --jp-widgets-color: white;\n",
       "                    --jp-widgets-label-color: white;\n",
       "                    --jp-ui-font-color1: white;\n",
       "                    --jp-layout-color2: #454545;\n",
       "                    background-color: #383838;\n",
       "                }\n",
       "\n",
       "                .geemap-dark .jupyter-button {\n",
       "                    --jp-layout-color3: #383838;\n",
       "                }\n",
       "\n",
       "                .geemap-colab {\n",
       "                    background-color: var(--colab-primary-surface-color, white);\n",
       "                }\n",
       "\n",
       "                .geemap-colab .jupyter-button {\n",
       "                    --jp-layout-color3: var(--colab-primary-surface-color, white);\n",
       "                }\n",
       "            </style>\n",
       "            "
      ],
      "text/plain": [
       "<IPython.core.display.HTML object>"
      ]
     },
     "metadata": {},
     "output_type": "display_data"
    },
    {
     "data": {
      "application/vnd.jupyter.widget-view+json": {
       "model_id": "78ae8de702864474a275ad5d7003ec50",
       "version_major": 2,
       "version_minor": 0
      },
      "text/plain": [
       "Map(bottom=3955.0, center=[19.02057711096681, 5.603027343750001], controls=(WidgetControl(options=['position',…"
      ]
     },
     "execution_count": 22,
     "metadata": {},
     "output_type": "execute_result"
    }
   ],
   "source": [
    "Map.addLayer(aoiClearedForestLoss, bin_viz, 'forest loss', 1)\n",
    "Map"
   ]
  },
  {
   "cell_type": "markdown",
   "id": "bd3cee2d",
   "metadata": {},
   "source": [
    "\n",
    "\n",
    "-----------------\n",
    "## **Global Man-made Impervious Surface (GMIS) Dataset**\n",
    "-----------------"
   ]
  },
  {
   "cell_type": "code",
   "execution_count": 23,
   "id": "955e79ae",
   "metadata": {},
   "outputs": [
    {
     "data": {
      "text/html": [
       "\n",
       "            <style>\n",
       "                .geemap-dark {\n",
       "                    --jp-widgets-color: white;\n",
       "                    --jp-widgets-label-color: white;\n",
       "                    --jp-ui-font-color1: white;\n",
       "                    --jp-layout-color2: #454545;\n",
       "                    background-color: #383838;\n",
       "                }\n",
       "\n",
       "                .geemap-dark .jupyter-button {\n",
       "                    --jp-layout-color3: #383838;\n",
       "                }\n",
       "\n",
       "                .geemap-colab {\n",
       "                    background-color: var(--colab-primary-surface-color, white);\n",
       "                }\n",
       "\n",
       "                .geemap-colab .jupyter-button {\n",
       "                    --jp-layout-color3: var(--colab-primary-surface-color, white);\n",
       "                }\n",
       "            </style>\n",
       "            "
      ],
      "text/plain": [
       "<IPython.core.display.HTML object>"
      ]
     },
     "metadata": {},
     "output_type": "display_data"
    },
    {
     "data": {
      "application/vnd.jupyter.widget-view+json": {
       "model_id": "e77045b6cfe54bacb0b6c557b91daa25",
       "version_major": 2,
       "version_minor": 0
      },
      "text/plain": [
       "Map(center=[0, 0], controls=(WidgetControl(options=['position', 'transparent_bg'], widget=SearchDataGUI(childr…"
      ]
     },
     "execution_count": 23,
     "metadata": {},
     "output_type": "execute_result"
    }
   ],
   "source": [
    "GMIS_ImperviousSurface = ImperviousSurfaceGMIS\n",
    "impermeableSurface = GMIS_ImperviousSurface.lte(99).unmask(0).clip(adm0_AOI)\n",
    "#Initialize a Map\n",
    "Map = geemap.Map()\n",
    "Map.centerObject(adm0_AOI)\n",
    "Map.addLayer(impermeableSurface, bin_viz, 'impermeable Surface', 1)\n",
    "Map"
   ]
  },
  {
   "cell_type": "markdown",
   "id": "95c767ef",
   "metadata": {},
   "source": [
    "\n",
    "-----------------\n",
    "## **Global Surface Water Dataset**\n",
    "-----------------"
   ]
  },
  {
   "cell_type": "code",
   "execution_count": 30,
   "id": "7d6294e3",
   "metadata": {},
   "outputs": [
    {
     "data": {
      "text/html": [
       "\n",
       "            <style>\n",
       "                .geemap-dark {\n",
       "                    --jp-widgets-color: white;\n",
       "                    --jp-widgets-label-color: white;\n",
       "                    --jp-ui-font-color1: white;\n",
       "                    --jp-layout-color2: #454545;\n",
       "                    background-color: #383838;\n",
       "                }\n",
       "\n",
       "                .geemap-dark .jupyter-button {\n",
       "                    --jp-layout-color3: #383838;\n",
       "                }\n",
       "\n",
       "                .geemap-colab {\n",
       "                    background-color: var(--colab-primary-surface-color, white);\n",
       "                }\n",
       "\n",
       "                .geemap-colab .jupyter-button {\n",
       "                    --jp-layout-color3: var(--colab-primary-surface-color, white);\n",
       "                }\n",
       "            </style>\n",
       "            "
      ],
      "text/plain": [
       "<IPython.core.display.HTML object>"
      ]
     },
     "metadata": {},
     "output_type": "display_data"
    },
    {
     "data": {
      "application/vnd.jupyter.widget-view+json": {
       "model_id": "28886ddbc2524a72919fdcb8bf9cd46c",
       "version_major": 2,
       "version_minor": 0
      },
      "text/plain": [
       "Map(center=[0, 0], controls=(WidgetControl(options=['position', 'transparent_bg'], widget=SearchDataGUI(childr…"
      ]
     },
     "execution_count": 30,
     "metadata": {},
     "output_type": "execute_result"
    }
   ],
   "source": [
    "#Clip JRC Image to Aoi and select \"occurrence\" band and unmask image so that nonwater pixels are 0\n",
    "surfaceWater_BFA = ee.Image(\"JRC/GSW1_4/GlobalSurfaceWater\").select('occurrence').clip(adm0_AOI)\n",
    "WaterOccuring = surfaceWater_BFA.gt(occurrence_threshold).unmask(0).clip(adm0_AOI)\n",
    "water_viz = {\n",
    "  'min': 0,\n",
    "  'max': 1,\n",
    "  'palette': ['white', 'blue']\n",
    "}\n",
    "#Initialize a Map\n",
    "Map = geemap.Map()\n",
    "Map.centerObject(adm0_AOI)\n",
    "Map.addLayer(WaterOccuring, water_viz, 'Water Occuring', 1)\n",
    "Map"
   ]
  },
  {
   "cell_type": "markdown",
   "id": "045a23ce",
   "metadata": {},
   "source": [
    "\n",
    "\n",
    "-----------------\n",
    "## **World’s protected areas**\n",
    "-----------------"
   ]
  },
  {
   "cell_type": "code",
   "execution_count": 33,
   "id": "6f74b12d",
   "metadata": {},
   "outputs": [
    {
     "data": {
      "text/html": [
       "\n",
       "            <style>\n",
       "                .geemap-dark {\n",
       "                    --jp-widgets-color: white;\n",
       "                    --jp-widgets-label-color: white;\n",
       "                    --jp-ui-font-color1: white;\n",
       "                    --jp-layout-color2: #454545;\n",
       "                    background-color: #383838;\n",
       "                }\n",
       "\n",
       "                .geemap-dark .jupyter-button {\n",
       "                    --jp-layout-color3: #383838;\n",
       "                }\n",
       "\n",
       "                .geemap-colab {\n",
       "                    background-color: var(--colab-primary-surface-color, white);\n",
       "                }\n",
       "\n",
       "                .geemap-colab .jupyter-button {\n",
       "                    --jp-layout-color3: var(--colab-primary-surface-color, white);\n",
       "                }\n",
       "            </style>\n",
       "            "
      ],
      "text/plain": [
       "<IPython.core.display.HTML object>"
      ]
     },
     "metadata": {},
     "output_type": "display_data"
    },
    {
     "data": {
      "application/vnd.jupyter.widget-view+json": {
       "model_id": "98d8fcad5c1745f69546c16834be6efe",
       "version_major": 2,
       "version_minor": 0
      },
      "text/plain": [
       "Map(center=[0, 0], controls=(WidgetControl(options=['position', 'transparent_bg'], widget=SearchDataGUI(childr…"
      ]
     },
     "execution_count": 33,
     "metadata": {},
     "output_type": "execute_result"
    }
   ],
   "source": [
    "#Initialize a Map\n",
    "Map = geemap.Map()\n",
    "Map.centerObject(adm0_AOI)\n",
    "Map.addLayer(ProtectedAreaPolygons, {'color': 'red'}, 'Protected Areas polygons',1)\n",
    "Map\n"
   ]
  },
  {
   "cell_type": "code",
   "execution_count": 34,
   "id": "5a881daa",
   "metadata": {},
   "outputs": [
    {
     "data": {
      "text/html": [
       "\n",
       "            <style>\n",
       "                .geemap-dark {\n",
       "                    --jp-widgets-color: white;\n",
       "                    --jp-widgets-label-color: white;\n",
       "                    --jp-ui-font-color1: white;\n",
       "                    --jp-layout-color2: #454545;\n",
       "                    background-color: #383838;\n",
       "                }\n",
       "\n",
       "                .geemap-dark .jupyter-button {\n",
       "                    --jp-layout-color3: #383838;\n",
       "                }\n",
       "\n",
       "                .geemap-colab {\n",
       "                    background-color: var(--colab-primary-surface-color, white);\n",
       "                }\n",
       "\n",
       "                .geemap-colab .jupyter-button {\n",
       "                    --jp-layout-color3: var(--colab-primary-surface-color, white);\n",
       "                }\n",
       "            </style>\n",
       "            "
      ],
      "text/plain": [
       "<IPython.core.display.HTML object>"
      ]
     },
     "metadata": {},
     "output_type": "display_data"
    },
    {
     "data": {
      "application/vnd.jupyter.widget-view+json": {
       "model_id": "98d8fcad5c1745f69546c16834be6efe",
       "version_major": 2,
       "version_minor": 0
      },
      "text/plain": [
       "Map(bottom=30857.0, center=[12.055437094469546, 2.3812866210937504], controls=(WidgetControl(options=['positio…"
      ]
     },
     "execution_count": 34,
     "metadata": {},
     "output_type": "execute_result"
    }
   ],
   "source": [
    "Map.addLayer(ProtectedAreaPoints, {'color': 'red'}, 'Protected Areas points')\n",
    "Map"
   ]
  },
  {
   "cell_type": "code",
   "execution_count": 31,
   "id": "0440a4bd",
   "metadata": {},
   "outputs": [
    {
     "data": {
      "text/html": [
       "\n",
       "            <style>\n",
       "                .geemap-dark {\n",
       "                    --jp-widgets-color: white;\n",
       "                    --jp-widgets-label-color: white;\n",
       "                    --jp-ui-font-color1: white;\n",
       "                    --jp-layout-color2: #454545;\n",
       "                    background-color: #383838;\n",
       "                }\n",
       "\n",
       "                .geemap-dark .jupyter-button {\n",
       "                    --jp-layout-color3: #383838;\n",
       "                }\n",
       "\n",
       "                .geemap-colab {\n",
       "                    background-color: var(--colab-primary-surface-color, white);\n",
       "                }\n",
       "\n",
       "                .geemap-colab .jupyter-button {\n",
       "                    --jp-layout-color3: var(--colab-primary-surface-color, white);\n",
       "                }\n",
       "            </style>\n",
       "            "
      ],
      "text/plain": [
       "<IPython.core.display.HTML object>"
      ]
     },
     "metadata": {},
     "output_type": "display_data"
    }
   ],
   "source": [
    "snippet = \"\"\"\n",
    "Map.addLayer(ProtectedAreaPolygons, {color: 'red'}, 'Protected Areas polygons',0);\n",
    "\"\"\"\n",
    "\n",
    "geemap.js_snippet_to_py(snippet, add_new_cell=True, import_ee=False)\n"
   ]
  },
  {
   "cell_type": "code",
   "execution_count": null,
   "id": "a9af61e1",
   "metadata": {},
   "outputs": [],
   "source": [
    "m.addLayer(ProtectedAreaPolygons, {'color': 'red'}, 'Protected Areas polygons',0)\n",
    "m"
   ]
  },
  {
   "cell_type": "code",
   "execution_count": null,
   "id": "4ee9a2b1",
   "metadata": {},
   "outputs": [],
   "source": [
    "\n",
    "m"
   ]
  },
  {
   "cell_type": "code",
   "execution_count": null,
   "id": "9f8a3bb5",
   "metadata": {},
   "outputs": [],
   "source": [
    "\n"
   ]
  },
  {
   "cell_type": "code",
   "execution_count": null,
   "id": "05a5cb1b",
   "metadata": {},
   "outputs": [],
   "source": []
  },
  {
   "cell_type": "code",
   "execution_count": null,
   "id": "b68a9e43",
   "metadata": {},
   "outputs": [],
   "source": []
  },
  {
   "cell_type": "code",
   "execution_count": null,
   "id": "040fdb4e",
   "metadata": {},
   "outputs": [],
   "source": [
    "\n"
   ]
  },
  {
   "cell_type": "code",
   "execution_count": null,
   "id": "32d7ed80",
   "metadata": {},
   "outputs": [],
   "source": []
  },
  {
   "cell_type": "code",
   "execution_count": null,
   "id": "c952cbe8",
   "metadata": {},
   "outputs": [],
   "source": []
  }
 ],
 "metadata": {
  "kernelspec": {
   "display_name": "Python 3 (ipykernel)",
   "language": "python",
   "name": "python3"
  },
  "language_info": {
   "codemirror_mode": {
    "name": "ipython",
    "version": 3
   },
   "file_extension": ".py",
   "mimetype": "text/x-python",
   "name": "python",
   "nbconvert_exporter": "python",
   "pygments_lexer": "ipython3",
   "version": "3.11.5"
  }
 },
 "nbformat": 4,
 "nbformat_minor": 5
}
